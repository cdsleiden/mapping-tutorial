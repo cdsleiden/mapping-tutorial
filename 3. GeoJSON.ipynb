{
 "cells": [
  {
   "cell_type": "code",
   "execution_count": null,
   "id": "f8ed23c4",
   "metadata": {},
   "outputs": [],
   "source": [
    "import folium\n",
    "import pandas as pd"
   ]
  },
  {
   "cell_type": "markdown",
   "id": "c463e81c",
   "metadata": {},
   "source": [
    "# 3. GeoJSON\n",
    "\n",
    "In the previous section, you saw that you can use add `Marker`s and `Cicle`s to a base map. The code that was discussed added all of these components one by one, on separate lines of code. \n",
    "\n",
    "This process of adding layers to a map can also take place in a more efficient way, by firstly making one large file containing all the items you want to work with. As a subsequent step, all of these layers described in this file can then be added to the map in one go, using one basic command. \n",
    "\n",
    "Files of this nature can be made using the specifications defined in the [GeoJSON](https://geojson.org/) format. It is commonly used open format for capturing geospatial data. Its syntax is based on the [JavaScript Object Notation](JavaScript Object Notation) standard. \n",
    "\n",
    "GeoJSON support a number of different geometry types, including points, lineStings and Polygons. \n",
    "\n",
    "You can find an example of a relatively simple GeoJson file below. This file describes specific location in New York City. \n",
    "\n",
    "As you can hopefully see, the file describes two geometry types: (1) a Point and (2) a Polygon. The Polygon is actually a collection of five coordinates. \n",
    "\n",
    "Some properties have also been defined for these shapes. There is a `name` property, which has been given a certain value. The polygon indicated the location of Central Park. \n",
    "\n",
    "\n",
    "```\n",
    "{\n",
    "  \"type\": \"FeatureCollection\",\n",
    "  \"features\": [\n",
    "    {\n",
    "      \"type\": \"Feature\",\n",
    "      \"properties\": {\n",
    "        \"name\": \"Rockefeller Center\"\n",
    "      },\n",
    "      \"geometry\": {\n",
    "        \"coordinates\": [\n",
    "          -73.98007794763497,\n",
    "          40.75930179605277\n",
    "        ],\n",
    "        \"type\": \"Point\"\n",
    "      },\n",
    "      \"id\": 1\n",
    "    },\n",
    "    {\n",
    "      \"type\": \"Feature\",\n",
    "      \"properties\": {\n",
    "        \"name\": \"Central Park\"\n",
    "      },\n",
    "      \"geometry\": {\n",
    "        \"coordinates\": [\n",
    "          [\n",
    "            [\n",
    "              -73.98165063573659,\n",
    "              40.768289015184195\n",
    "            ],\n",
    "            [\n",
    "              -73.97305016654792,\n",
    "              40.76450037197216\n",
    "            ],\n",
    "            [\n",
    "              -73.94943376523811,\n",
    "              40.797128471256\n",
    "            ],\n",
    "            [\n",
    "              -73.95817399149345,\n",
    "              40.80094836642937\n",
    "            ],\n",
    "            [\n",
    "              -73.98165063573659,\n",
    "              40.768289015184195\n",
    "            ]\n",
    "          ]\n",
    "        ],\n",
    "        \"type\": \"Polygon\"\n",
    "      },\n",
    "      \"id\": 2\n",
    "    }\n",
    "  ]\n",
    "}\n",
    "```"
   ]
  },
  {
   "cell_type": "markdown",
   "id": "dbfbad7a",
   "metadata": {},
   "source": [
    "This sample GeoJSON is included in the folder you included for this course. It save in a file names 'new_york.geojson'. \n",
    "\n",
    "The information from the GeoJSON file can be added using the `GeoJson` object. "
   ]
  },
  {
   "cell_type": "code",
   "execution_count": null,
   "id": "d69a3f42",
   "metadata": {},
   "outputs": [],
   "source": [
    "map_url = 'https://server.arcgisonline.com/ArcGIS/rest/services/World_Street_Map/MapServer/tile/{z}/{y}/{x}'\n",
    "attribution= 'Tiles &copy; Esri &mdash; Source: Esri, DeLorme, NAVTEQ, USGS, Intermap, iPC, NRCAN, Esri Japan, METI, Esri China (Hong Kong), Esri (Thailand), TomTom, 2012'\n",
    "\n",
    "map = folium.Map(location=[40.78157518113839, -73.96629142372429],\n",
    "                zoom_start = 12 , \n",
    "                 tiles =  map_url , attr = attribution)\n",
    "\n",
    "folium.GeoJson( \"new_york.geojson\" ).add_to(map)\n",
    "map\n"
   ]
  },
  {
   "cell_type": "markdown",
   "id": "44d93a24",
   "metadata": {},
   "source": [
    "You can adjust the presentation of the features, using the stylefunction parameter. The following properties are available: \n",
    "\n",
    "* `fillColor`\n",
    "* `color`\n",
    "* `weight`\n",
    "\n",
    "If you have labels you want to use as popups, you can work with the `GeoJsonPopup` object from the `features` module. "
   ]
  },
  {
   "cell_type": "code",
   "execution_count": null,
   "id": "ec70cc58",
   "metadata": {},
   "outputs": [],
   "source": [
    "\n",
    "import folium\n",
    "from folium import GeoJson\n",
    "\n",
    "fa_icon = 'fa-asterisk'\n",
    "custom_color = 'darkred'\n",
    "\n",
    "custom_icon = folium.Icon(icon= fa_icon , color= custom_color , prefix='fa' , size = 5)\n",
    "\n",
    "\n",
    "map = folium.Map(location=[40.771672371640875, -73.97480715725173],\n",
    "                zoom_start = 13 , \n",
    "                 tiles =  'OpenStreetMap' )\n",
    "\n",
    "gj = GeoJson('new_york.geojson' , \n",
    "       marker = folium.Marker( icon = custom_icon) ,             \n",
    "       style_function=lambda feature: {    \n",
    "        'fillColor': '#120f7a',           \n",
    "        'color': '#366944', \n",
    "        'weight': 2\n",
    "    }).add_to(map)\n",
    "\n",
    "folium.features.GeoJsonPopup(fields=['name'],labels=False).add_to(gj)\n",
    "\n",
    "map"
   ]
  },
  {
   "cell_type": "markdown",
   "id": "f556d17e",
   "metadata": {},
   "source": [
    "As you can imagine, GeoJson code is usually not typed in manually. They are often generated using tools. \n",
    "\n",
    "One very helpful tool in this context is [geojson.io](geojson.io). Using the tools that are provided to the right of the screen, you can add some shapes such as polygons, lines and points to a map. \n",
    "\n",
    "If you click on one of the geometry types added to the map, you can also add properties, such as a `name`, or a `class`. you are free to choose these property names yourself. \n",
    "\n",
    "Once you have added all the components you need, you can export all of these layers to a GeoJSON file. Click on 'Save' > 'GeoJSon'. The export will be saved under the name 'map.geojson' by default, but you can obviously rename this file. The export will usually be downloaded to the \"Downloads\" folder. "
   ]
  },
  {
   "cell_type": "markdown",
   "id": "afec04c7",
   "metadata": {},
   "source": [
    "### Exercise 3.1.\n",
    "\n",
    "Open the file named 'new_york.geojson' in [geojson.io](geojson.io). Next, add a number of geometrical types to the map, such as a line, a point or a polygon. Also add `name` properties to describe the locations you added. \n",
    "\n",
    "After this, export the updated file, and save the export as 'new_york_updated'. Finally, visualise the newly created GeoJson file via *Leaflet*. Note that the code below writes the result to a file named 'new_york.html'. You can open this file is a web browser. "
   ]
  },
  {
   "cell_type": "code",
   "execution_count": null,
   "id": "2d872f88",
   "metadata": {},
   "outputs": [],
   "source": [
    "\n",
    "import folium\n",
    "from folium import GeoJson\n",
    "\n",
    "map_url = 'https://server.arcgisonline.com/ArcGIS/rest/services/World_Street_Map/MapServer/tile/{z}/{y}/{x}'\n",
    "attribution = 'Tiles &copy; Esri &mdash; Source: Esri, DeLorme, NAVTEQ, USGS, Intermap, iPC, NRCAN, Esri Japan, METI, Esri China (Hong Kong), Esri (Thailand), TomTom, 2012'\n",
    "\n",
    "fa_icon = 'fa-asterisk'\n",
    "custom_color = 'darkred'\n",
    "\n",
    "custom_icon = folium.Icon(icon= fa_icon , color= custom_color , prefix='fa' , size = 5)\n",
    "\n",
    "\n",
    "map = folium.Map(location=[40.771672371640875, -73.97480715725173],\n",
    "                zoom_start = 13 , \n",
    "                 tiles =  map_url , attr = attribution )\n",
    "\n",
    "gj = GeoJson('new_york_updated.geojson' , \n",
    "       marker = folium.Marker( icon = custom_icon) ,             \n",
    "       style_function=lambda feature: {    \n",
    "        'fillColor': '#120f7a',           \n",
    "        'color': '#366944', \n",
    "        'weight': 2\n",
    "    }).add_to(map)\n",
    "\n",
    "folium.features.GeoJsonPopup(fields=['name'],labels=False).add_to(gj)\n",
    "\n",
    "map.save('new_york.html')"
   ]
  },
  {
   "cell_type": "markdown",
   "id": "93ae6c4e",
   "metadata": {},
   "source": [
    "### Exercise 3.2.\n",
    "\n",
    "The file 'nl.geojson' contains polygons depicting all the provinces of the netherlands and markers for a number of cities. The file has been downloaded from [Carthography Vectors](https://cartographyvectors.com/). \n",
    "\n",
    "Open the file 'nl.geojson' in [geojson.io](geojson.io) and try to add markers for at leat three other Dutch cities. Also added a `name` property to record the names of these cities. Export you work. You can work as 'nl_updated.geojson'.\n",
    "\n",
    "Next, present all the data from this GeoJSON file on a *Leaflet* map. Try to show the provinces in a light red colour. You can use the code below as a basis. Note that the `GeoJson` object works with the `zoom_on_click` parameter, which is set to true. This parameter will have the effect that users can automatically zoom in onto the region they click on. \n",
    "\n",
    "Add tooltips displaying the names of the cities and the provinces using `GeoJsonTooltip`. "
   ]
  },
  {
   "cell_type": "code",
   "execution_count": null,
   "id": "54d62892",
   "metadata": {},
   "outputs": [],
   "source": [
    "from folium import GeoJson\n",
    "\n",
    "m = folium.Map([52.17730033847493,4.537353515625001], \n",
    "            zoom_start=7)\n",
    "\n",
    "gj = GeoJson('nl.geojson' , \n",
    "        zoom_on_click = True ,\n",
    "       style_function=lambda feature: {    \n",
    "        'fillColor': 'black',           \n",
    "        'color': 'black', \n",
    "        'weight': 2\n",
    "    }).add_to(m)\n",
    "\n",
    "folium.features.GeoJsonTooltip(fields=['name'],labels=False).add_to(gj)\n",
    "\n",
    "m.save('nl.html')\n",
    "m"
   ]
  },
  {
   "cell_type": "markdown",
   "id": "cb4c27b1",
   "metadata": {},
   "source": [
    "## A Choropeth map"
   ]
  },
  {
   "cell_type": "markdown",
   "id": "8a9487fa",
   "metadata": {},
   "source": [
    "If you have GeoJSON files delineating specific regions, together with quantitative data about these regions, it becomes possible to create a Choropeth map. On such a choropeth map, different areas or regions are presented in diffetent colours, or in diofferent shades of a colour, in such a way that these colours clarify the values for a specific variable.  In this way, choropeth maps allow for a quick visual comparison of these regions. \n",
    "\n",
    "The collection of files you downloaded for this course includes a CSV file named 'nl_population.csv'. This file offers information about the number of inhabitants of each province of The Netherlands. The dataset has two columns: 'name' and 'population'. The data have been copied from [WIkidata](https://www.wikidata.org/wiki/Wikidata:Main_Page).\n",
    "\n",
    "The code below reads in the dataset and creates a `Pandas` dataframe named 'provinces'.  "
   ]
  },
  {
   "cell_type": "code",
   "execution_count": null,
   "id": "92fd8ddf",
   "metadata": {},
   "outputs": [],
   "source": [
    "import pandas as pd\n",
    "provinces = pd.read_csv('nl_population.csv')\n",
    "print(provinces)"
   ]
  },
  {
   "cell_type": "markdown",
   "id": "479b758b",
   "metadata": {},
   "source": [
    "As mentioned, we can bring polygons representing regions and quantitative data about these regions together in a chloropeth map.\n",
    "\n",
    "To do this, you need to make sure, firstly, that there is a value in the first data set which uniquely identifies each region. This may be code, or a name, provided that this name is unique. Additionally, you need to ensure that these same identifiers are used in the second dataset. If the two dataset share the same identifiers for the regions, the data sets can be connected.  \n",
    "\n",
    "The code below creates a choropeth map in which the colours of the regions convery information about the population. The regions can be drawn, as we saw, by making use of the data in 'nl.geojsopn'. If you open 'nl.geojson' in [geojson.io](geojson.io), you can see that each province has been given a name. This name is captured in a property called 'name'. We can assume that the names of provinces are unique. These exact same names also occur in the CSV file named 'nl_provinces', so we can use these values to establish links between the two datasets. \n",
    "\n",
    "\n",
    "A folium `Choropleth` object demands the following parameters: \n",
    "\n",
    "* The `geodata` parameter should specify the GeoJSON file containing the geographic information. \n",
    "* `data` must refer to the pandas dataframe containing the data. \n",
    "* `columns` refers to the columns in the datadrame that need to be visualised. The first of these columns should be the identifier, and the second column should contain the values to be represented. \n",
    "* `key_on` explains how the two data sets can be connected. More specifically, you need to refer to the property (typically given underneath 'feature.properties') which acts as an identifier. \n",
    "* The values for the `fill_opacity` and the `line_opacity` determine the opacity. The higher the value, the lower the level of transparency.   \n",
    "* Under `fill_color`, we can supply a colour range. \n",
    "\n",
    "As options for the `full_color`, we can choose from the following list.\n",
    "\n",
    "```\n",
    "'BuGn', 'BuPu', 'GnBu', 'OrRd', 'PuBu', 'PuBuGn', 'PuRd', 'RdPu', 'YlGn', 'YlGnBu', 'YlOrBr', 'YlOrRd', 'BrBg', 'PiYG', 'PRGn', 'PuOr', 'RdBu', 'RdGy', 'RdYlBu', 'RdYlGn'\n",
    "```"
   ]
  },
  {
   "cell_type": "code",
   "execution_count": null,
   "id": "f2e627f6",
   "metadata": {},
   "outputs": [],
   "source": [
    "from folium import GeoJson\n",
    "\n",
    "m = folium.Map([52.17730033847493,4.537353515625001], \n",
    "            zoom_start=7)\n",
    "\n",
    "\n",
    "cp = folium.Choropleth(\n",
    "    geo_data= 'nl.geojson',\n",
    "    data= provinces ,\n",
    "    columns=[\"name\", \"population\"],\n",
    "    key_on=\"feature.properties.name\",\n",
    "    fill_color=\"PuBu\",\n",
    "    fill_opacity=0.5,\n",
    "    line_opacity=0.1,\n",
    "    legend_name=\"population\",\n",
    ").add_to(m)\n",
    "\n",
    "folium.features.GeoJsonTooltip(fields=['name'],labels=False).add_to(cp.geojson)\n",
    "\n",
    "\n",
    "m.save('cp.html')\n",
    "m"
   ]
  },
  {
   "cell_type": "markdown",
   "id": "48a35c5e",
   "metadata": {},
   "source": [
    "### Exercise 3.3.\n",
    "\n",
    "PISA is the OECD’s [Programme for International Student Assessment](https://www.oecd.org/pisa/). This programme evaluates educational systems globally by measuring the performance of 15 year-old-children in mathematics, science and reading. The latest study is from 2018.\n",
    "\n",
    "The folder prepared for this course includes a CSV file named 'pisa_read.csv'. It contains all the PISA scores given for reading in 2018 in Europe. \n",
    "\n",
    "The GeoJSON file named 'europe.geojson' contains polygons representing all European countries. The data have been downloaded form the [GISCO EU website](https://ec.europa.eu/eurostat/web/gisco/geodata/reference-data/administrative-units-statistical-units/countries). \n",
    "\n",
    "Try to visualise the PISA scores for reading on a map using a Choropleth."
   ]
  },
  {
   "cell_type": "code",
   "execution_count": null,
   "id": "dfd82397",
   "metadata": {},
   "outputs": [],
   "source": [
    "pisa = pd.read_csv('pisa_read.csv')\n",
    "print(pisa.head())"
   ]
  },
  {
   "cell_type": "markdown",
   "id": "12c96659",
   "metadata": {},
   "source": [
    "As we can see in the output of the code above, the PISA_read dataset only contains the names of the countries. This means that we should link this CSV file to the GeoJSON file on the basis of the country names. \n",
    "\n",
    "Next, open the file 'europe.geojson' in [geojson.io](geojson.io) and try to find the name of the property containing the names of the countries. Add this column name to the value `feature.properties`. This value needs to be provided as the value of the `key_on` parameter. Note that columns names are case sensitive!\n"
   ]
  },
  {
   "cell_type": "code",
   "execution_count": null,
   "id": "f9b12ab2",
   "metadata": {},
   "outputs": [],
   "source": [
    "from folium import GeoJson\n",
    "\n",
    "m = folium.Map([49.553726,18.017578], \n",
    "            zoom_start=4)\n",
    "\n",
    "cp = folium.Choropleth(\n",
    "    geo_data= '',\n",
    "    data= '' ,\n",
    "    columns=[],\n",
    "    key_on=\"\",\n",
    "    fill_color=\"YlGn\",\n",
    "    fill_opacity=0.7,\n",
    "    line_opacity=0.1,\n",
    "    nan_fill_color = '' ,\n",
    "    nan_fill_opacity = 0 ,\n",
    "    legend_name=\"pisa score\"\n",
    ").add_to(m)\n",
    "\n",
    "folium.GeoJsonTooltip(['NAME'] , labels=False ).add_to(cp.geojson)\n",
    "\n",
    "m.save('pisa.html')\n",
    "m"
   ]
  }
 ],
 "metadata": {
  "kernelspec": {
   "display_name": "Python 3 (ipykernel)",
   "language": "python",
   "name": "python3"
  },
  "language_info": {
   "codemirror_mode": {
    "name": "ipython",
    "version": 3
   },
   "file_extension": ".py",
   "mimetype": "text/x-python",
   "name": "python",
   "nbconvert_exporter": "python",
   "pygments_lexer": "ipython3",
   "version": "3.7.9"
  }
 },
 "nbformat": 4,
 "nbformat_minor": 5
}
