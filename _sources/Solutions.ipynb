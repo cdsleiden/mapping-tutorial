{
 "cells": [
  {
   "cell_type": "markdown",
   "id": "c1f214c4",
   "metadata": {},
   "source": [
    "# Solutions\n",
    "\n",
    "\n",
    "### Exercise 1.1\n",
    "\n",
    "Try to find the correct coordinates of the Colosseum in Rome. You can do this by opening [Google Maps](https://www.google.com/maps), for example. Right-click on a location and double-click to copy the coordinates to the clipboard. \n",
    "\n",
    "Next, make a map which has the Colosseum as its centre. Make sure that street names are visible. Use the tile images from *OpenStreetMap*, and make sure that the width of the map covers 80% of the space that is available. "
   ]
  },
  {
   "cell_type": "code",
   "execution_count": null,
   "id": "8eba7ad5",
   "metadata": {},
   "outputs": [],
   "source": [
    "import folium\n",
    "\n",
    "map = folium.Map(location=[41.89035393385417, 12.492702964916445],\n",
    "tiles=\"OpenStreetMap\",\n",
    " width=\"80%\",\n",
    "height=\"100%\",\n",
    "zoom_start=17)\n",
    "\n",
    "map\n"
   ]
  },
  {
   "cell_type": "markdown",
   "id": "03083e1a",
   "metadata": {},
   "source": [
    "### Exercise 2.1.\n",
    "\n",
    "Try to find the coordinates of two monuments or landmarks in the centre of London. Use these coordinates to add markers. Additionally, create a popup containing descriptions of these locations. "
   ]
  },
  {
   "cell_type": "code",
   "execution_count": null,
   "id": "eac69095",
   "metadata": {},
   "outputs": [],
   "source": [
    "map = folium.Map(location=[51.50111656588214, -0.1228658709481792],\n",
    "tiles = 'OpenStreetMap' ,\n",
    "    zoom_start=13)\n",
    "\n",
    "folium.Marker([51.50104506480626, -0.14241035182137504],\n",
    "    popup = 'Buckingham Palace' ).add_to(map)\n",
    "\n",
    "folium.Marker([51.51366683783708, -0.09821931016133895],\n",
    "    popup = \"St. Paul's Cathedral\" ).add_to(map)\n",
    "\n",
    "map\n",
    "\n"
   ]
  },
  {
   "cell_type": "markdown",
   "id": "fdb199bb",
   "metadata": {},
   "source": [
    "### Exercise 3.1.\n",
    "\n",
    "Open the file named 'new_york.geojson' in [geojson.io](geojson.io). Next, add a number of geometrical types to the map, such as a line, a point or a polygon. Also add `name` properties to describe the locations you added. \n",
    "\n",
    "After this, export the updated file, and save the export as 'new_york_updated'. Finally, visualise the newly created GeoJson file via *Leaflet*. Note that the code below writes the result to a file named 'new_york.html'. You can open this file is a web browser. "
   ]
  },
  {
   "cell_type": "code",
   "execution_count": null,
   "id": "f899c9a0",
   "metadata": {},
   "outputs": [],
   "source": [
    "\n",
    "import folium\n",
    "from folium import GeoJson\n",
    "\n",
    "map_url = 'https://server.arcgisonline.com/ArcGIS/rest/services/World_Street_Map/MapServer/tile/{z}/{y}/{x}'\n",
    "attribution = 'Tiles &copy; Esri &mdash; Source: Esri, DeLorme, NAVTEQ, USGS, Intermap, iPC, NRCAN, Esri Japan, METI, Esri China (Hong Kong), Esri (Thailand), TomTom, 2012'\n",
    "\n",
    "fa_icon = 'fa-asterisk'\n",
    "custom_color = 'darkred'\n",
    "\n",
    "custom_icon = folium.Icon(icon= fa_icon , color= custom_color , prefix='fa' , size = 5)\n",
    "\n",
    "\n",
    "map = folium.Map(location=[40.771672371640875, -73.97480715725173],\n",
    "                zoom_start = 13 , \n",
    "                 tiles =  map_url , attr = attribution )\n",
    "\n",
    "gj = GeoJson('new_york_updated.geojson' , \n",
    "       marker = folium.Marker( icon = custom_icon) ,             \n",
    "       style_function=lambda feature: {    \n",
    "        'fillColor': '#120f7a',           \n",
    "        'color': '#366944', \n",
    "        'weight': 2\n",
    "    }).add_to(map)\n",
    "\n",
    "folium.features.GeoJsonPopup(fields=['name'],labels=False).add_to(gj)\n",
    "\n",
    "map.save('new_york.html')"
   ]
  },
  {
   "cell_type": "markdown",
   "id": "669d418f",
   "metadata": {},
   "source": [
    "### Exercise 3.2.\n"
   ]
  },
  {
   "cell_type": "code",
   "execution_count": null,
   "id": "96f36f0f",
   "metadata": {
    "scrolled": true
   },
   "outputs": [],
   "source": [
    "from folium import GeoJson\n",
    "\n",
    "m = folium.Map([52.17730033847493,4.537353515625001], \n",
    "            zoom_start=7)\n",
    "\n",
    "gj = GeoJson('nl_updated.geojson' ,\n",
    "          zoom_on_click = True ,\n",
    "       style_function=lambda feature: {    \n",
    "        'fillColor': '#b5163b',           \n",
    "        'color': '#7a0c26', \n",
    "        'weight': 2\n",
    "    }).add_to(m)\n",
    "\n",
    "folium.features.GeoJsonTooltip(fields=['name'],labels=False).add_to(gj)\n",
    "\n",
    "m.save('nl.html')"
   ]
  },
  {
   "cell_type": "markdown",
   "id": "e0890cf8",
   "metadata": {},
   "source": [
    "### Exercise 3.3\n",
    "\n",
    "PISA is the OECD’s [Programme for International Student Assessment](https://www.oecd.org/pisa/). This programme evaluates educational systems globally by measuring the performance of 15 year-old-children in mathematics, science and reading. The latest study is from 2018.\n",
    "\n",
    "The folder prepared for this course includes a CSV file named 'pisa_read.csv'. It contains all the PISA scores given for reading in 2018 in Europe. \n",
    "\n",
    "The GeoJSON file named 'europe.geojson' contains polygons representing all European countries. The data have been downloaded form the [GISCO EU website](https://ec.europa.eu/eurostat/web/gisco/geodata/reference-data/administrative-units-statistical-units/countries). \n",
    "\n",
    "Try to visualise the PISA scores for reading on a map using a Choropleth."
   ]
  },
  {
   "cell_type": "code",
   "execution_count": null,
   "id": "efe4ab83",
   "metadata": {},
   "outputs": [],
   "source": [
    "import pandas as pd\n",
    "pisa = pd.read_csv('pisa_read.csv')\n",
    "\n",
    "m = folium.Map([49.553726,18.017578], \n",
    "            zoom_start=4)\n",
    "\n",
    "cp = folium.Choropleth(\n",
    "    geo_data= 'europe.geojson',\n",
    "    data= pisa ,\n",
    "    columns=['country','score'],\n",
    "    key_on=\"feature.properties.NAME\",\n",
    "    fill_color=\"YlGn\",\n",
    "    fill_opacity=0.7,\n",
    "    line_opacity=0.1,\n",
    "    nan_fill_color = '' ,\n",
    "    nan_fill_opacity = 0 ,\n",
    "    legend_name=\"pisa scores for reading\"\n",
    ").add_to(m)\n",
    "\n",
    "folium.GeoJsonTooltip(['NAME'] , labels=False ).add_to(cp.geojson)\n",
    "\n",
    "m.save('pisa.html')\n",
    "m"
   ]
  }
 ],
 "metadata": {
  "kernelspec": {
   "display_name": "Python 3 (ipykernel)",
   "language": "python",
   "name": "python3"
  },
  "language_info": {
   "codemirror_mode": {
    "name": "ipython",
    "version": 3
   },
   "file_extension": ".py",
   "mimetype": "text/x-python",
   "name": "python",
   "nbconvert_exporter": "python",
   "pygments_lexer": "ipython3",
   "version": "3.7.9"
  }
 },
 "nbformat": 4,
 "nbformat_minor": 5
}
