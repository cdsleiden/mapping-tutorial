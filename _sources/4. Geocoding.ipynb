{
 "cells": [
  {
   "cell_type": "code",
   "execution_count": null,
   "id": "93ac7263",
   "metadata": {},
   "outputs": [],
   "source": [
    "import requests\n",
    "import folium\n",
    "import pandas as pd"
   ]
  },
  {
   "cell_type": "markdown",
   "id": "575ceeae",
   "metadata": {},
   "source": [
    "# 4. Geocoding\n",
    "\n",
    "As was discussed in the previous sections, the geographic coordinates of locations can be found via online tools such as [Google Maps](https://www.google.com/maps) and [GeoNames](https://www.geonames.org/). \n",
    "\n",
    "Another method for acquiring data about coordinated is by making use of **geocoding**. This is a process in which textual descriptions of locations, such as addresses or city names, are converted into numbers for the latitude and the longitude of those locations. Conversions such as these generally take place on the basis of large databases with geospatial information, such as [OpenStreetMap](https://www.openstreetmap.org/). \n",
    "\n",
    "The code below makes used of the OpenStreetMap API to find geographic coorindates for a list of addresses. \n"
   ]
  },
  {
   "cell_type": "code",
   "execution_count": null,
   "id": "1170ddbe",
   "metadata": {},
   "outputs": [],
   "source": [
    "data = []\n",
    "\n",
    "\n",
    "headers = {'User-Agent': 'Mozilla/5.0 (Macintosh; Intel Mac OS X 10.15; rv:136.0) Gecko/20100101 Firefox/136.0'}\n",
    "\n",
    "\n",
    "addresses = [\n",
    "    'Grote Looiersstraat 17 Maastricht' , \n",
    "    'Witte Singel 27 Leiden' ,\n",
    "    'Singel 425 Amsterdam' , \n",
    "    'Drift 27 Utrecht' , \n",
    "    'Houtlaan 4 Nijmegen' ,\n",
    "    'Broerstraat 4 Groningen',]\n",
    "\n",
    "\n",
    "for a in addresses:\n",
    "    print(a)\n",
    "    url = f'https://nominatim.openstreetmap.org/search?q={a}&format=json'\n",
    "\n",
    "    response = requests.get( url ,headers=headers ) # The spaces in each address are automatically encoded as '%20' by requests\n",
    "    json_data = response.json()\n",
    "    # json_data is a list of results; we assume that the first result is always correct(!)\n",
    "    if len(json_data)>0:\n",
    "        latitude = json_data[0]['lat']\n",
    "        longitude = json_data[0]['lon']\n",
    "        print( f'{latitude},{longitude}')\n",
    "        data.append( [latitude,longitude,a] )"
   ]
  },
  {
   "cell_type": "markdown",
   "id": "4d90624f",
   "metadata": {},
   "source": [
    "Once all of these coordinates have been found, they can also be plotted on a *Leaflet* map. "
   ]
  },
  {
   "cell_type": "code",
   "execution_count": null,
   "id": "3cff68c7",
   "metadata": {},
   "outputs": [],
   "source": [
    "\n",
    "\n",
    "map = folium.Map(location=[52.09167565753429, 5.10068760531639],\n",
    "                 tiles=\"OpenStreetMap\",\n",
    "width=\"%100\",\n",
    "height=\"%100\",\n",
    "zoom_start=6)\n",
    "\n",
    "for row in data:\n",
    "    latitude = row[0]\n",
    "    longitude = row[1]\n",
    "    name = row[2]\n",
    "    \n",
    "\n",
    "    folium.Circle(\n",
    "\n",
    "        \n",
    "        location=[latitude,longitude],\n",
    "        radius=8000,\n",
    "        color='#1827c9',\n",
    "        fill_color = '#1827c9' ,\n",
    "        fill_opacity = 1 , \n",
    "        weight = 3 ,\n",
    "        popup = name ).add_to(map)\n",
    "\n",
    "map\n",
    "\n"
   ]
  },
  {
   "cell_type": "markdown",
   "id": "0f10b039",
   "metadata": {},
   "source": [
    "## Exercise 4.1\n",
    "\n",
    "Collect a number of Dutch addresses in a Google Spreadsheet. The spreadsheet should have only one column, with the name 'address'. \n",
    "\n",
    "Next, save the Spreadsheet as a CSV file. Name the export 'addresses.csv'. Finally, run the code below."
   ]
  },
  {
   "cell_type": "code",
   "execution_count": null,
   "id": "984d4a58",
   "metadata": {},
   "outputs": [],
   "source": [
    "addresses_df = pd.read_csv('addresses.csv')\n",
    "data = []\n",
    "headers = {'User-Agent': 'Mozilla/5.0 (Macintosh; Intel Mac OS X 10.15; rv:136.0) Gecko/20100101 Firefox/136.0'}\n",
    "\n",
    "\n",
    "for i,row in addresses_df.iterrows():\n",
    "    a = row['address']\n",
    "    print(a)\n",
    "    url = f'https://nominatim.openstreetmap.org/search?q={a}&format=json'\n",
    "\n",
    "    response = requests.get( url , headers=headers) \n",
    "    json_data = response.json()\n",
    "    latitude = json_data[0]['lat']\n",
    "    longitude = json_data[0]['lon']\n",
    "    print( f'{latitude},{longitude}')\n",
    "    data.append( [latitude,longitude,a] )\n",
    "    \n",
    "m = folium.Map(location=[52.09167565753429, 5.10068760531639],\n",
    "                 tiles=\"OpenStreetMap\",\n",
    "width=\"%100\",\n",
    "height=\"%100\",\n",
    "zoom_start=7)\n",
    "\n",
    "for row in data:\n",
    "    latitude = row[0]\n",
    "    longitude = row[1]\n",
    "    name = row[2]\n",
    "    \n",
    "\n",
    "    folium.Marker([latitude,longitude],\n",
    "        popup = name ).add_to(m)\n",
    "\n",
    "m\n"
   ]
  }
 ],
 "metadata": {
  "kernelspec": {
   "display_name": "Python 3 (ipykernel)",
   "language": "python",
   "name": "python3"
  },
  "language_info": {
   "codemirror_mode": {
    "name": "ipython",
    "version": 3
   },
   "file_extension": ".py",
   "mimetype": "text/x-python",
   "name": "python",
   "nbconvert_exporter": "python",
   "pygments_lexer": "ipython3",
   "version": "3.7.9"
  }
 },
 "nbformat": 4,
 "nbformat_minor": 5
}
