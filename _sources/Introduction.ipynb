{
 "cells": [
  {
   "cell_type": "markdown",
   "id": "cc9201e9",
   "metadata": {},
   "source": [
    "# Introduction\n",
    "\n",
    "This tutorial will explain how you can visualise geospatial data using interactive maps. These maps will be created using Leaflet, a widely used open source Javascript library. This tutorial does not expect you to learn how to write code in Javascript, however. The process of working with Leaflet can be simplified enormously by making use of folium, a package built in the Python programming language. You can view folium as an interface for Leaflet. In many cases, you create fairly advanced Leaflet maps using only a few Python commands.\n",
    "\n",
    "The notebooks can be downloaded from the following address:\n",
    "\n",
    "[https://github.com/cdsleiden/mapping-tutorial/archive/refs/heads/main.zip](https://github.com/cdsleiden/mapping-tutorial/archive/refs/heads/main.zip)\n",
    "\n",
    "\n"
   ]
  },
  {
   "cell_type": "code",
   "execution_count": null,
   "id": "5c3a5b7f",
   "metadata": {},
   "outputs": [],
   "source": []
  }
 ],
 "metadata": {
  "kernelspec": {
   "display_name": "Python 3 (ipykernel)",
   "language": "python",
   "name": "python3"
  },
  "language_info": {
   "codemirror_mode": {
    "name": "ipython",
    "version": 3
   },
   "file_extension": ".py",
   "mimetype": "text/x-python",
   "name": "python",
   "nbconvert_exporter": "python",
   "pygments_lexer": "ipython3",
   "version": "3.7.9"
  }
 },
 "nbformat": 4,
 "nbformat_minor": 5
}
