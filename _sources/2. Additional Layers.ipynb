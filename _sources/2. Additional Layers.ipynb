{
 "cells": [
  {
   "cell_type": "code",
   "execution_count": null,
   "id": "c86c56d3",
   "metadata": {},
   "outputs": [],
   "source": [
    "import folium\n",
    "import pandas as pd\n",
    "import pandas"
   ]
  },
  {
   "cell_type": "markdown",
   "id": "bbe4a8a5",
   "metadata": {},
   "source": [
    "# 2. Additional Layers\n",
    "\n",
    "\n",
    "In this notebook, you will learn how to place some markers, polylines and popups on a *Leaflet* map. \n",
    "\n",
    "The code below creates a plain map. The details of the parameters in `folium.Map` have been explained in notebook 1. "
   ]
  },
  {
   "cell_type": "code",
   "execution_count": null,
   "id": "59e71174",
   "metadata": {},
   "outputs": [],
   "source": [
    "map = folium.Map(location=[52.159023564272175, 4.492176575878583],\n",
    "tiles=\"OpenStreetMap\",\n",
    "width=\"100%\",\n",
    "height=\"100%\",\n",
    "zoom_start=10)\n",
    "\n",
    "map"
   ]
  },
  {
   "cell_type": "markdown",
   "id": "e2a37883",
   "metadata": {},
   "source": [
    "## A Marker\n",
    "\n",
    "You can indicate a specific location on the map by added a `Marker`. As a parameter, you need to provide the coordinates of the location of this marker. More specifically, you need to specify the latitude and the longitude as a Python list, in square brackets. \n",
    "\n",
    "To actuyally place the `Marker` on the map, you need to add the method `add_to()`. "
   ]
  },
  {
   "cell_type": "code",
   "execution_count": null,
   "id": "0f0253a3",
   "metadata": {},
   "outputs": [],
   "source": [
    "map = folium.Map(location=[52.15723602487217, 4.482775926589967],\n",
    "tiles = 'OpenStreetMap' ,\n",
    "     width=\"90%\",\n",
    "    height=\"90%\",\n",
    "    zoom_start=15)\n",
    "\n",
    "folium.Marker([52.157201304859825, 4.485295005258649]).add_to(map)\n",
    "\n",
    "map"
   ]
  },
  {
   "cell_type": "markdown",
   "id": "63586f5f",
   "metadata": {},
   "source": [
    "You can also add a `popup` parameter to the `Marker`. When you do this, the text provided for the popup will become visible if it is clicked on. "
   ]
  },
  {
   "cell_type": "code",
   "execution_count": null,
   "id": "d68b9c94",
   "metadata": {},
   "outputs": [],
   "source": [
    "\n",
    "folium.Marker([52.157201304859825, 4.485295005258649],\n",
    "    popup = 'Academy Building in Leiden' ).add_to(map)\n",
    "\n",
    "map"
   ]
  },
  {
   "cell_type": "markdown",
   "id": "e1c5f5f6",
   "metadata": {},
   "source": [
    "Alternatively, you can work with the `tooltip` parameter. The text that is given will then appear when users hover over the marker."
   ]
  },
  {
   "cell_type": "code",
   "execution_count": null,
   "id": "25d08957",
   "metadata": {},
   "outputs": [],
   "source": [
    "folium.Marker([52.15480614361388, 4.483881607791887],\n",
    "    tooltip = 'Old Observatory' ).add_to(map)\n",
    "\n",
    "map"
   ]
  },
  {
   "cell_type": "markdown",
   "id": "e6ba4ea0",
   "metadata": {},
   "source": [
    "This text given as value for the `tooltip` may also contain HTML code. You can use HTML code to create a hyperlink, for example."
   ]
  },
  {
   "cell_type": "code",
   "execution_count": null,
   "id": "92c77ba2",
   "metadata": {},
   "outputs": [],
   "source": [
    "popup_text = '<a href=\"https://www.universiteitleiden.nl/en/locations/academy-building\" target=\"_blank\">Academy Building in Leiden</a>'\n",
    "\n",
    "map = folium.Map(location=[52.15723602487217, 4.482775926589967],\n",
    "tiles = 'OpenStreetMap' ,\n",
    "     width=\"90%\",\n",
    "    height=\"90%\",\n",
    "    zoom_start=15)\n",
    "\n",
    "\n",
    "map = folium.Map(location=[52.15723602487217, 4.482775926589967],\n",
    "tiles = 'OpenStreetMap' ,\n",
    "     width=\"90%\",\n",
    "    height=\"90%\",\n",
    "    zoom_start=15)\n",
    "\n",
    "folium.Marker([52.157201304859825, 4.485295005258649],\n",
    "    popup = popup_text ).add_to(map)\n",
    "\n",
    "map"
   ]
  },
  {
   "cell_type": "markdown",
   "id": "6aba3c94",
   "metadata": {},
   "source": [
    "### Exercise 2.1."
   ]
  },
  {
   "cell_type": "markdown",
   "id": "a407af2a",
   "metadata": {},
   "source": [
    "`folium` has a useful method named `LatLngPopup`. This method lets you find coordinates very easily. If you click on the map, you will see the coordinates. \n",
    "\n",
    "A similar method, named `ClickForLatLng`, also copies these coordinates to the clipboard.  "
   ]
  },
  {
   "cell_type": "code",
   "execution_count": null,
   "id": "0e7122b1",
   "metadata": {},
   "outputs": [],
   "source": [
    "map = folium.Map(location=[51.50111656588214, -0.1228658709481792],\n",
    "tiles = 'OpenStreetMap' ,\n",
    "    zoom_start=15)\n",
    "map.add_child(folium.features.ClickForLatLng())\n",
    "map.add_child(folium.LatLngPopup())\n",
    "map.save('coordinates.html')"
   ]
  },
  {
   "cell_type": "markdown",
   "id": "27588593",
   "metadata": {},
   "source": [
    "The code above creates a map named 'coordinates.html'. Using this interactive map, try to find the coordinates of two monuments or landmarks in the centre of London. \n",
    "\n",
    "Add `Markers` to the map below for the locations you have found. Add a popup with a description of these locations. "
   ]
  },
  {
   "cell_type": "code",
   "execution_count": null,
   "id": "c9a93873",
   "metadata": {},
   "outputs": [],
   "source": [
    "map = folium.Map(location=[51.50111656588214, -0.1228658709481792],\n",
    "tiles = 'OpenStreetMap' ,\n",
    "    zoom_start=13)\n",
    "\n",
    "folium.Marker([0,0],\n",
    "    popup = \"\" ).add_to(map)\n",
    "\n",
    "folium.Marker([0,1],\n",
    "    popup = \"\" ).add_to(map)\n",
    "\n",
    "map"
   ]
  },
  {
   "cell_type": "markdown",
   "id": "b7d29428",
   "metadata": {},
   "source": [
    "## Circle\n",
    "\n",
    "A location can also be indicated using a `Circle`. \n",
    "\n",
    "The appearance of such a circle can be manipulated using the following parameters.\n",
    "\n",
    "* `radius` changes the overall size of the circle.\n",
    "* `weight` determines the width of the border. The default width is 3. \n",
    "* `color` changes the colour of the border of the circle. To find colour codes, you can work with a [color picker tool](https://g.co/kgs/do8izv). \n",
    "* If you set `fill` to 'True', the interior of the circle will be coloured as well. \n",
    "* `fill_color` determines the colour of the body of the circle. It can be different from the colour of the border. \n",
    "* You can work with the `fill_opacity` parameter to make the circle transparent. With value 0, the circle will be fully transparent. If the circle has an opacity of 1, there is no transparency.\n",
    "* As is the case for the marker, you can also add a `popup`.\n"
   ]
  },
  {
   "cell_type": "code",
   "execution_count": null,
   "id": "2c7e9847",
   "metadata": {},
   "outputs": [],
   "source": [
    "map = folium.Map(location=[51.51366683783708, -0.09821931016133895],\n",
    "                 tiles=\"OpenStreetMap\",\n",
    "width=\"%80\",\n",
    "height=\"%100\",\n",
    "zoom_start=14)\n",
    "\n",
    "folium.Circle(\n",
    "    location=[51.51366683783708, -0.09821931016133895],\n",
    "    radius=120,\n",
    "    color='#1827c9',\n",
    "    fill=False ,\n",
    "    fill_opacity = 0.5,\n",
    "    fill_color = '#c72d22' ,\n",
    "    weight = 3 ,\n",
    "    popup = \"St. Paul's Cathedral\" ).add_to(map)\n",
    "\n",
    "map\n",
    "\n"
   ]
  },
  {
   "cell_type": "markdown",
   "id": "8d5877eb",
   "metadata": {},
   "source": [
    "## Circle Marker\n",
    "\n",
    "The size of a `Circle` is flexible. It is adjusted when user of the map zooms in or out. A `CircleMarker`, by contrast, will always have the radius that was specified originally. \n",
    "\n",
    "The appearance of the `Circle` can be used with the exact same parameters."
   ]
  },
  {
   "cell_type": "code",
   "execution_count": null,
   "id": "c088853e",
   "metadata": {},
   "outputs": [],
   "source": [
    "map = folium.Map(location=[51.51366683783708, -0.09821931016133895], \n",
    "width=\"%80\",\n",
    "height=\"%100\",\n",
    "zoom_start=14)\n",
    "\n",
    "folium.CircleMarker(\n",
    "    location=[51.51366683783708, -0.09821931016133895],\n",
    "    radius=50,\n",
    "    color='#3f7509',\n",
    "    fill=False ,\n",
    "    fill_color = '#3b5c19' ,\n",
    "    fill_opacity = 0.4 , \n",
    "    weight = 3 ,\n",
    "    popup = \"St. Paul's Cathedral\" ).add_to(map)\n",
    "\n",
    "map\n",
    "\n"
   ]
  },
  {
   "cell_type": "markdown",
   "id": "bfdc98a6",
   "metadata": {
    "scrolled": true
   },
   "source": [
    "## Plotting locations described in a CSV file\n",
    "    \n",
    "As was explained above, you can add markers and circles to indicate places on a map.  \n",
    "\n",
    "If you want to plot a large number of locations, it can be useful to make a separate file containing all the locations. Using code, you can then add `Markers` to the map for all the locations in this file. Comma Separated Value file (CSV) is a very common file format for such data. \n",
    "\n",
    "This CSV file describes locations of museums in Paris. As you can see, the file describes the latitute and longitude. The data also includes a brief descriptino of the locations. \n",
    "\n",
    "```\n",
    "latitude,longitude,description\n",
    "48.86056457456627,2.3375939272302153,Louvre Museum\n",
    "48.86003165994765,2.32658077703463,Musée d'Orsay\n",
    "48.855139873885015,2.3159270427078726,Musée Rodin\n",
    "48.8608257894529,2.3527472909202767,Centre Pompidou\n",
    "```\n",
    "\n",
    "\n",
    "In a Python programme, you can read CSV files using a library named `pandas`. This package has a methods named `read_csv()` to read the contents of a CSV file. This method creates a dataframe. This is a data sctructure which consists of rows and of columns. The method named `iterrows()` enable you iterate across all the rows in the dataframe. "
   ]
  },
  {
   "cell_type": "code",
   "execution_count": null,
   "id": "af2f231c",
   "metadata": {},
   "outputs": [],
   "source": [
    "import pandas as pd\n",
    "museums = pd.read_csv('paris_museums.csv')\n",
    "for i,row in museums.iterrows():\n",
    "    print(row['description'])\n",
    "    print(f\"Latitude: {row['latitude']}, Longitude: {row['longitude']}\\n\")"
   ]
  },
  {
   "cell_type": "markdown",
   "id": "4857dff9",
   "metadata": {},
   "source": [
    "Next, we can write code to add all the locations described in the CSV file as markers."
   ]
  },
  {
   "cell_type": "code",
   "execution_count": null,
   "id": "949d21f3",
   "metadata": {},
   "outputs": [],
   "source": [
    "\n",
    "map = folium.Map(location=[48.86212799332407, 2.3234206439367],\n",
    "                zoom_start = 13 )\n",
    "\n",
    "\n",
    "df = pd.read_csv('paris_museums.csv')\n",
    "\n",
    "for i,row in df.iterrows():\n",
    "    latitude = row['latitude']\n",
    "    longitude = row['longitude']\n",
    "    museum_name = row['description']\n",
    "    \n",
    "    folium.Marker([latitude, longitude],\n",
    "    tooltip = museum_name ).add_to(map)\n",
    "\n",
    "    \n",
    "map"
   ]
  },
  {
   "cell_type": "markdown",
   "id": "54dbbd91",
   "metadata": {},
   "source": [
    "## Exercise \n",
    "\n",
    "Create a CSV file in *Google Doc* with the following columns names in the header: \n",
    "\n",
    "* latitude\n",
    "* longitude\n",
    "* description\n",
    "\n",
    "If you want, you can also copy a [template](https://docs.google.com/document/d/1rg1m8qw0CTaY8kEWX23wJ7CH0XUyr3mCTVH6qWUjjX8/edit).\n",
    "\n",
    "Next, use this spreadsheet to collect the coordinates of a number of monuments or historical landmarks in the city of Amsterdam. \n",
    "\n",
    "Once you are done, export the spreadsheet as a CSV file, and save the export as 'map.csv'. Next, plot these locations on a map using the code below. "
   ]
  },
  {
   "cell_type": "code",
   "execution_count": null,
   "id": "3bb57319",
   "metadata": {},
   "outputs": [],
   "source": [
    "map = folium.Map(location=[52.37342908811543, 4.893317395003621],\n",
    "                 tiles = 'OpenStreetMap' ,\n",
    "                zoom_start = 14 )\n",
    "\n",
    "df = pd.read_csv('map.csv')\n",
    "\n",
    "for i,row in df.iterrows():\n",
    "    latitude = row['latitude']\n",
    "    longitude = row['longitude']\n",
    "    museum_name = row['description']\n",
    "    \n",
    "    folium.Marker([latitude, longitude],\n",
    "    popup = museum_name ).add_to(map)\n",
    "\n",
    "    \n",
    "map"
   ]
  },
  {
   "cell_type": "markdown",
   "id": "5a889248",
   "metadata": {},
   "source": [
    "## Custom Icons"
   ]
  },
  {
   "cell_type": "markdown",
   "id": "6c000d97",
   "metadata": {},
   "source": [
    "By default, *Leaflet* uses a blue droplet-shaped icon for the `Marker`. You can change the icon that is used on *Leaflet* maps, however. \n",
    "\n",
    "On the droplet, you can use icons from the [font awesome](https://fontawesome.com/v4/icons/) webpage. Each icon on this website is identified using a name beginning with 'fa-'.\n",
    "\n",
    "Examples include the following: \n",
    "\n",
    "* fa-map-pin\n",
    "* fa-car\n",
    "* fa-map\n",
    "* fa-street-view \n",
    "* fa-location-arrow\n",
    "* fa-map-o\n",
    "\n",
    "Some of the icons that have been added since version 4.7 of *font awasome* may not be avaiable yet. \n",
    "\n",
    "The colour of the droplet can also be changes. You can work with the following pre-defines colours: \n",
    "\n",
    "'beige', 'darkgreen', 'cadetblue', 'pink', 'gray', 'white', 'darkpurple', 'green', 'black', 'lightgray', 'darkred', 'blue', 'red', 'orange', 'lightgreen', 'darkblue', 'purple', 'lightred', 'lightblue'"
   ]
  },
  {
   "cell_type": "code",
   "execution_count": null,
   "id": "6f4f07d0",
   "metadata": {},
   "outputs": [],
   "source": [
    "\n",
    "fa_icon = 'fa-map'\n",
    "custom_color = 'darkred'\n",
    "\n",
    "custom_icon = folium.Icon(icon= fa_icon , color= custom_color , prefix='fa' )\n",
    "\n",
    "\n",
    "map = folium.Map(location=[52.15723602487217, 4.482775926589967],\n",
    "     width=\"90%\",\n",
    "    height=\"90%\",\n",
    "    zoom_start=10)\n",
    "\n",
    "folium.Marker([52.15723602487217, 4.482775926589967] , icon = custom_icon  ).add_to(map)\n",
    "\n",
    "map\n"
   ]
  },
  {
   "cell_type": "markdown",
   "id": "bb743c15",
   "metadata": {},
   "source": [
    "You can also change the shape of the marker. To do this. you need to supply the URL of an icon image. A large number of such icons can be found on the [icons8](https://icons8.com/icons/set/map) website. On this site, you need to right-clich and select \"Copy URL\". \n",
    "\n",
    "The list below contains some URLs you can work with. \n",
    "\n",
    "* https://cdn-icons-png.flaticon.com/128/4300/4300279.png\n",
    "* http://leafletjs.com/examples/custom-icons/leaf-green.png\n",
    "* https://cdn-icons-png.flaticon.com/128/4300/4300279.png\n",
    "* https://img.icons8.com/?size=2x&id=54qCxYO5RODV&format=png\n",
    "* https://img.icons8.com/?size=2x&id=86820&format=png"
   ]
  },
  {
   "cell_type": "code",
   "execution_count": null,
   "id": "b6ee7e72",
   "metadata": {},
   "outputs": [],
   "source": [
    "icon_url = 'https://cdn-icons-png.flaticon.com/128/4300/4300279.png'\n",
    "\n",
    "custom_icon = folium.features.CustomIcon(\n",
    "    icon_url, \n",
    "    icon_size=[30,] )\n",
    "\n",
    "map = folium.Map(location=[52.15723602487217, 4.482775926589967],\n",
    "    tiles=\"CartoDB positron\",\n",
    "     width=\"90%\",\n",
    "    height=\"90%\",\n",
    "    zoom_start=10)\n",
    "\n",
    "folium.Marker([52.15723602487217, 4.482775926589967] , \n",
    "              icon = custom_icon ).add_to(map)\n",
    "\n",
    "map"
   ]
  }
 ],
 "metadata": {
  "kernelspec": {
   "display_name": "Python 3 (ipykernel)",
   "language": "python",
   "name": "python3"
  },
  "language_info": {
   "codemirror_mode": {
    "name": "ipython",
    "version": 3
   },
   "file_extension": ".py",
   "mimetype": "text/x-python",
   "name": "python",
   "nbconvert_exporter": "python",
   "pygments_lexer": "ipython3",
   "version": "3.7.9"
  }
 },
 "nbformat": 4,
 "nbformat_minor": 5
}
