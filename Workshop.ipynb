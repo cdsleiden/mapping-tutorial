{
 "cells": [
  {
   "cell_type": "markdown",
   "id": "706d646c",
   "metadata": {},
   "source": [
    "# Base maps"
   ]
  },
  {
   "cell_type": "markdown",
   "id": "ece9de1e",
   "metadata": {},
   "source": [
    "This tutorial will explain how you can visualise geospatial data using interactive maps. These maps will be created using [Leaflet](https://leafletjs.com/), a widely used open source Javascript library. This tutorial does not expect you to learn how to write code in Javascript, however. The process of working with *Leaflet* can be simplified enormously by making use of [folium](https://python-visualization.github.io/folium/latest/), a package built in the [Python](https://www.python.org/) programming language. You can view *folium* as an interface for *Leaflet*. In many cases, you can create fairly advanced *Leaflet* maps using only a few Python commands.\n",
    "\n",
    "If the *folium* package has not been installed yet, you can install it using the command below. "
   ]
  },
  {
   "cell_type": "code",
   "execution_count": null,
   "id": "ea4dab76",
   "metadata": {},
   "outputs": [],
   "source": [
    "pip install folium"
   ]
  },
  {
   "cell_type": "markdown",
   "id": "f013880b",
   "metadata": {},
   "source": [
    "Following the initial installation, You may need to restart the kernel before you can actually use the package. Choose \"Kernel\" > \"Restart\" from the menu in Jupyter Notebook. \n",
    "\n",
    "The cell below downloads some of the files we will be working with. "
   ]
  },
  {
   "cell_type": "code",
   "execution_count": null,
   "id": "64358c2d",
   "metadata": {},
   "outputs": [],
   "source": [
    "import requests\n",
    "from os.path import basename\n",
    "\n",
    "def download(url):\n",
    "    response = requests.get(url)\n",
    "    if response:\n",
    "        file_name = basename(url)\n",
    "        out = open(file_name,'w',encoding='utf-8')\n",
    "        out.write(response.text)\n",
    "        out.close()\n",
    "        \n",
    "\n",
    "        \n",
    "download('https://raw.githubusercontent.com/cdsleiden/mapping-tutorial/refs/heads/main/paris_museums.csv')\n",
    "download('https://raw.githubusercontent.com/cdsleiden/mapping-tutorial/refs/heads/main/new_york.geojson')\n",
    "download('https://raw.githubusercontent.com/cdsleiden/mapping-tutorial/refs/heads/main/nl_population.csv')\n",
    "download('https://raw.githubusercontent.com/cdsleiden/mapping-tutorial/refs/heads/main/nl.geojson')"
   ]
  },
  {
   "cell_type": "markdown",
   "id": "73bbf612",
   "metadata": {},
   "source": [
    "To work with *folium*, you firstly need to import the package. "
   ]
  },
  {
   "cell_type": "code",
   "execution_count": null,
   "id": "0edeaa55",
   "metadata": {},
   "outputs": [],
   "source": [
    "import folium"
   ]
  },
  {
   "cell_type": "markdown",
   "id": "4cb6979a",
   "metadata": {},
   "source": [
    "In *folium*, You can make a very basic map, first of all, by creating a `Map` object. "
   ]
  },
  {
   "cell_type": "code",
   "execution_count": null,
   "id": "b353741d",
   "metadata": {
    "scrolled": true
   },
   "outputs": [],
   "source": [
    "folium.Map()"
   ]
  },
  {
   "cell_type": "markdown",
   "id": "44fa4b59",
   "metadata": {},
   "source": [
    "The default centre of this map is 0 latitude and 0 longitude. This is a location on the equator, with the latitude set to the location of the [Greenwich observatory](https://www.rmg.co.uk/royal-observatory). \n",
    "\n",
    "The map normally opens in the notebook by default. It may be the case, however, that the external contents from *Leaflet* is blocked, as a precaution against hidden malicious code. If you do not see a map after running the code above, you can try to make the current notebook a trusted notebook by choosing \"File\" > \"Trust Notebook\". \n",
    "\n",
    "Next to presenting the map in this notebook, you can also write the map to a file, using the `save()` method. As a parameter for this method (i.e. the value supplied in beteween the brackets), you need to specify the filename.  The code below will create a new file with the name 'map.html' in your current working directory. "
   ]
  },
  {
   "cell_type": "code",
   "execution_count": null,
   "id": "90a12fb8",
   "metadata": {},
   "outputs": [],
   "source": [
    "map = folium.Map()\n",
    "map.save('map.html')"
   ]
  },
  {
   "cell_type": "markdown",
   "id": "58a3602b",
   "metadata": {},
   "source": [
    "To view the map, navigate to the folder containing the file named 'map.html', and doubleclick on this file. This file should then be opened in a web browser. \n",
    "\n",
    "The centre of the map can be changed using the `location` parameter. The cell below places the centre at the Lipsius Building in Leiden. The latitude of this location is 52.15775492822701, and the longitude in 4.482736320037433.\n",
    "\n",
    "If you want to find the coordinates of other locations, you can make use of [Google Maps](https://www.google.com/maps/). If you right-click on a specific location, the pop-up window that appears shows the coordinates of this location. Netx, if you click on this location, these coordinates will be copied to the clickboard. "
   ]
  },
  {
   "cell_type": "code",
   "execution_count": null,
   "id": "d5e05e1e",
   "metadata": {},
   "outputs": [],
   "source": [
    "map = folium.Map(location=[52.15775492822701, 4.482736320037433])\n",
    "map"
   ]
  },
  {
   "cell_type": "markdown",
   "id": "cfbd0fd1",
   "metadata": {},
   "source": [
    "The zoom level can be adjusted using the `zoom_start` parameter. This zoom level defines the scale of the map. A low zoom level may show the full globe, or entire continents. A higher zoom level may show particular details of a location, such as the streets in a city. The defailt value for `zoom_start` is 0. "
   ]
  },
  {
   "cell_type": "code",
   "execution_count": null,
   "id": "4597b2d8",
   "metadata": {
    "scrolled": true
   },
   "outputs": [],
   "source": [
    "map = folium.Map( \n",
    "    location=[52.15723602487217, 4.482775926589967],\n",
    "    zoom_start=14)\n",
    "\n",
    "map"
   ]
  },
  {
   "cell_type": "markdown",
   "id": "8f0b129f",
   "metadata": {},
   "source": [
    "# A Tile Layer\n",
    "\n",
    "The base map that is used by default is provided by *OpenStreetMap*. You can also You can change the overall style of the map by using one of the following options in the `tiles` parameter of the `Map`.\n",
    "\n",
    "* CartoDB positron\n",
    "* CartoDB dark_matter"
   ]
  },
  {
   "cell_type": "code",
   "execution_count": null,
   "id": "3add026d",
   "metadata": {},
   "outputs": [],
   "source": [
    "map = folium.Map(location=[52.15723602487217, 4.482775926589967],\n",
    "                 tiles='CartoDB positron',zoom_start=12)\n",
    "\n",
    "map\n"
   ]
  },
  {
   "cell_type": "markdown",
   "id": "f7944269",
   "metadata": {},
   "source": [
    "You can also use tiles made available by other providers. To do this, you need to mention the URL of the tile images in the `tiles` parameter. You also need to give information about the provider of the image (i.e. the attribution) in the `attr` parameter. You can find many examples of base map URLs on  [http://leaflet-extras.github.io](http://leaflet-extras.github.io/leaflet-providers/preview/).\n",
    "\n",
    "The code below contains a number of URLs and attribution statements copied from this web page. You can create maps with these tile layets simply by changing the value of the `base_map` variable. You can choose from the values below.\n",
    "\n",
    "* Esri.NatGeoWorldMap\n",
    "* Esri.WorldImagery\n",
    "* MtbMap\n",
    "* CartoDB.Voyager\n",
    "* USGS.USImagery\n",
    "* OpenTopoMap"
   ]
  },
  {
   "cell_type": "code",
   "execution_count": null,
   "id": "ca829692",
   "metadata": {},
   "outputs": [],
   "source": [
    "leaflet_providers = dict()\n",
    "\n",
    "leaflet_providers['Esri.NatGeoWorldMap'] = ('https://server.arcgisonline.com/ArcGIS/rest/services/NatGeo_World_Map/MapServer/tile/{z}/{y}/{x}','Tiles &copy; Esri &mdash; National Geographic, Esri, DeLorme, NAVTEQ, UNEP-WCMC, USGS, NASA, ESA, METI, NRCAN, GEBCO, NOAA, iPC')\n",
    "leaflet_providers['Esri.WorldImagery'] = ('https://server.arcgisonline.com/ArcGIS/rest/services/World_Imagery/MapServer/tile/{z}/{y}/{x}','Tiles &copy; Esri &mdash; Source: Esri, i-cubed, USDA, USGS, AEX, GeoEye, Getmapping, Aerogrid, IGN, IGP, UPR-EGP, and the GIS User Community')\n",
    "leaflet_providers['MtbMap'] = ('http://tile.mtbmap.cz/mtbmap_tiles/{z}/{x}/{y}.png','&copy; <a href=\"https://www.openstreetmap.org/copyright\">OpenStreetMap</a> contributors &amp; USGS' )\n",
    "leaflet_providers['CartoDB.Voyager'] = ('https://{s}.basemaps.cartocdn.com/rastertiles/voyager/{z}/{x}/{y}{r}.png','&copy; <a href=\"https://www.openstreetmap.org/copyright\">OpenStreetMap</a> contributors &copy; <a href=\"https://carto.com/attributions\">CARTO</a>')\n",
    "leaflet_providers['OpenTopoMap'] = ('https://{s}.tile.opentopomap.org/{z}/{x}/{y}.png','Map data: &copy; <a href=\"https://www.openstreetmap.org/copyright\">OpenStreetMap</a> contributors, <a href=\"http://viewfinderpanoramas.org\">SRTM</a> | Map style: &copy; <a href=\"https://opentopomap.org\">OpenTopoMap</a> (<a href=\"https://creativecommons.org/licenses/by-sa/3.0/\">CC-BY-SA</a>)')\n",
    "\n",
    "\n",
    "base_map = 'Esri.WorldImagery'\n",
    "\n",
    "\n",
    "tiles = leaflet_providers[base_map][0]\n",
    "attribution = leaflet_providers[base_map][1]\n",
    "\n",
    "map = folium.Map(location=[52.15723602487217, 4.482775926589967],\n",
    "                 tiles = tiles ,\n",
    "                 attr= attribution,\n",
    "                  zoom_start=12)\n",
    "map.save('tiles_map.html')\n",
    "\n",
    "map"
   ]
  },
  {
   "cell_type": "markdown",
   "id": "80f7d2dd",
   "metadata": {},
   "source": [
    "The `width` and the `height` of the map can also be adjusted. You can provide percentages for these properties"
   ]
  },
  {
   "cell_type": "code",
   "execution_count": null,
   "id": "59e71174",
   "metadata": {},
   "outputs": [],
   "source": [
    "map = folium.Map(location=[52.15723602487217, 4.482775926589967],\n",
    "tiles=\"CartoDB positron\",\n",
    " width=\"50%\",\n",
    "height=\"100%\",\n",
    "zoom_start=10)\n",
    "\n",
    "map\n"
   ]
  },
  {
   "cell_type": "markdown",
   "id": "f57f5cea",
   "metadata": {},
   "source": [
    "`folium` also has a useful method named `ClickForLatLng` which automatically copies the coordinates of the location you click on to the clipboard.  "
   ]
  },
  {
   "cell_type": "code",
   "execution_count": null,
   "id": "a69b90e9",
   "metadata": {},
   "outputs": [],
   "source": [
    "map = folium.Map(location=[41.903557,12.452324],\n",
    "tiles = 'OpenStreetMap' ,\n",
    "    zoom_start=5)\n",
    "map.add_child(folium.features.ClickForLatLng())\n",
    "map.add_child(folium.LatLngPopup())\n",
    "map.save('coordinates.html')\n",
    "map"
   ]
  },
  {
   "cell_type": "markdown",
   "id": "1b1fdca2",
   "metadata": {},
   "source": [
    "## Exercise 1.\n",
    "\n",
    "Using the map, created using the `ClickForLatLng` method above, try to find the correct coordinates of the Colosseum in Rome. \n",
    "\n",
    "Next, make a map which has the Colosseum as its centre. Make sure that street names are visible. Use the tile images from *OpenStreetMap*, and make sure that the width of the map covers 80% of the space that is available. "
   ]
  },
  {
   "cell_type": "code",
   "execution_count": null,
   "id": "479a1ad9",
   "metadata": {},
   "outputs": [],
   "source": [
    "import folium\n",
    "\n",
    "map = folium.Map(location=[0,0],\n",
    "    tiles = 'OpenStreetMap' ,\n",
    " width=\"100%\",\n",
    "height=\"100%\",\n",
    "zoom_start=0)\n",
    "\n",
    "map\n"
   ]
  },
  {
   "cell_type": "markdown",
   "id": "ba7cf172",
   "metadata": {},
   "source": [
    "# A Minimap\n",
    "\n",
    "Finally, you can add a `Minimap` to clarify the larger context of the location visible on the map. This `Minimap` is part of the *plugins* module of *folium*. This smaller map will normally be shown at the bottom right of the larger map. \n"
   ]
  },
  {
   "cell_type": "code",
   "execution_count": null,
   "id": "fb28de4f",
   "metadata": {},
   "outputs": [],
   "source": [
    "from folium import plugins\n",
    "\n",
    "m = folium.Map(location=(41.89812135355312, 12.476395553072532), \n",
    "               zoom_start=12 )\n",
    "\n",
    "minimap = plugins.MiniMap()\n",
    "m.add_child(minimap)\n",
    "\n",
    "m.save('map.html')\n",
    "m"
   ]
  },
  {
   "cell_type": "markdown",
   "id": "e2a37883",
   "metadata": {},
   "source": [
    "# A Marker\n",
    "\n",
    "You can indicate a specific location on the map by adding a `Marker`. As a parameter, you need to provide the coordinates of the location of this marker. More specifically, you need to specify the latitude and the longitude as a Python list, in square brackets. \n",
    "\n",
    "To actually place the `Marker` on the map, you need to use the method `add_to()`. "
   ]
  },
  {
   "cell_type": "code",
   "execution_count": null,
   "id": "0f0253a3",
   "metadata": {},
   "outputs": [],
   "source": [
    "map = folium.Map(location=[52.15723602487217, 4.482775926589967],\n",
    "tiles = 'OpenStreetMap' ,\n",
    "     width=\"90%\",\n",
    "    height=\"90%\",\n",
    "    zoom_start=15)\n",
    "\n",
    "folium.Marker([52.157201304859825, 4.485295005258649]).add_to(map)\n",
    "\n",
    "map"
   ]
  },
  {
   "cell_type": "markdown",
   "id": "63586f5f",
   "metadata": {},
   "source": [
    "You can also add a `popup` parameter to the `Marker`. When you do this, the text provided for the popup will become visible if it is clicked on. "
   ]
  },
  {
   "cell_type": "code",
   "execution_count": null,
   "id": "d68b9c94",
   "metadata": {},
   "outputs": [],
   "source": [
    "folium.Marker([52.157201304859825, 4.485295005258649],\n",
    "    popup = 'Academy Building in Leiden' ).add_to(map)\n",
    "\n",
    "map"
   ]
  },
  {
   "cell_type": "markdown",
   "id": "4af106a9",
   "metadata": {},
   "source": [
    "This text given as value for the `popup` may also contain HTML code. You can use HTML code to create a hyperlink, for example."
   ]
  },
  {
   "cell_type": "code",
   "execution_count": null,
   "id": "792ea637",
   "metadata": {
    "scrolled": true
   },
   "outputs": [],
   "source": [
    "popup_text = '<a href=\"https://www.universiteitleiden.nl/en/locations/academy-building\" target=\"_blank\">Academy Building in Leiden</a>'\n",
    "\n",
    "\n",
    "map = folium.Map(location=[52.15723602487217, 4.482775926589967],\n",
    "tiles = 'OpenStreetMap' ,\n",
    "     width=\"90%\",\n",
    "    height=\"90%\",\n",
    "    zoom_start=15)\n",
    "\n",
    "folium.Marker([52.157201304859825, 4.485295005258649],\n",
    "    popup = popup_text ).add_to(map)\n",
    "\n",
    "map"
   ]
  },
  {
   "cell_type": "markdown",
   "id": "e1c5f5f6",
   "metadata": {},
   "source": [
    "Alternatively, you can work with the `tooltip` parameter. The text that is given will then appear when users hover over the marker."
   ]
  },
  {
   "cell_type": "code",
   "execution_count": null,
   "id": "25d08957",
   "metadata": {
    "scrolled": true
   },
   "outputs": [],
   "source": [
    "\n",
    "map = folium.Map(location=[52.15480614361388, 4.483881607791887],\n",
    "tiles = 'OpenStreetMap' ,\n",
    "     width=\"90%\",\n",
    "    height=\"90%\",\n",
    "    zoom_start=15)\n",
    "\n",
    "\n",
    "folium.Marker([52.15480614361388, 4.483881607791887],\n",
    "    tooltip = 'Old Observatory' ).add_to(map)\n",
    "\n",
    "map"
   ]
  },
  {
   "cell_type": "markdown",
   "id": "b7d29428",
   "metadata": {},
   "source": [
    "# Circle\n",
    "\n",
    "A location can also be indicated using a `Circle`. \n",
    "\n",
    "The appearance of such a circle can be manipulated using the following parameters.\n",
    "\n",
    "* `radius` changes the overall size of the circle.\n",
    "* `weight` determines the width of the border. The default width is 3. \n",
    "* `color` changes the colour of the border of the circle. To find colour codes, you can work with a [color picker tool](https://g.co/kgs/do8izv). \n",
    "* If you set `fill` to 'True', the interior of the circle will be coloured as well. \n",
    "* `fill_color` determines the colour of the body of the circle. It can be different from the colour of the border. \n",
    "* You can work with the `fill_opacity` parameter to make the circle transparent. With value 0, the circle will be fully transparent. If the circle has an opacity of 1, there is no transparency.\n",
    "* As is the case for the marker, you can also add a `popup`.\n"
   ]
  },
  {
   "cell_type": "code",
   "execution_count": null,
   "id": "2c7e9847",
   "metadata": {},
   "outputs": [],
   "source": [
    "map = folium.Map(location=[51.51366683783708, -0.09821931016133895],\n",
    "                 tiles=\"OpenStreetMap\",\n",
    "width=\"80%\",\n",
    "height=\"100%\",\n",
    "zoom_start=14)\n",
    "\n",
    "folium.Circle(\n",
    "    location=[51.51366683783708, -0.09821931016133895],\n",
    "    radius=120,\n",
    "    color='#1827c9',\n",
    "    fill=False ,\n",
    "    fill_opacity = 0.5,\n",
    "    fill_color = '#c72d22' ,\n",
    "    weight = 3 ,\n",
    "    popup = \"St. Paul's Cathedral\" ).add_to(map)\n",
    "\n",
    "map\n",
    "\n"
   ]
  },
  {
   "cell_type": "markdown",
   "id": "8d5877eb",
   "metadata": {},
   "source": [
    "# Circle Marker\n",
    "\n",
    "The size of a `Circle` is flexible. It is adjusted when user of the map zooms in or out. A `CircleMarker`, by contrast, will always have the radius that was specified originally. \n",
    "\n",
    "The appearance of the `Circle` can be used with the exact same parameters."
   ]
  },
  {
   "cell_type": "code",
   "execution_count": null,
   "id": "c088853e",
   "metadata": {},
   "outputs": [],
   "source": [
    "map = folium.Map(location=[51.51366683783708, -0.09821931016133895], \n",
    "width=\"80%\",\n",
    "height=\"100%\",\n",
    "zoom_start=14)\n",
    "\n",
    "folium.CircleMarker(\n",
    "    location=[51.51366683783708, -0.09821931016133895],\n",
    "    radius=50,\n",
    "    color='#3f7509',\n",
    "    fill=False ,\n",
    "    fill_color = '#3b5c19' ,\n",
    "    fill_opacity = 0.4 , \n",
    "    weight = 3 ,\n",
    "    popup = \"St. Paul's Cathedral\" ).add_to(map)\n",
    "\n",
    "map\n",
    "\n"
   ]
  },
  {
   "cell_type": "markdown",
   "id": "bfdc98a6",
   "metadata": {
    "scrolled": true
   },
   "source": [
    "# Plotting locations described in a CSV file\n",
    "    \n",
    "As was explained above, you can add markers and circles to indicate places on a map.   If you want to plot a large number of locations, it can be useful to make a separate file containing all the locations. Using code, you can then add `Markers` to the map for all the locations in this file. Comma Separated Value file (CSV) is a very common file format for such data. \n",
    "\n",
    "This CSV file describes locations of museums in Paris. As you can see, the file describes the latitute and longitude. The data also includes a brief descriptino of the locations. \n",
    "\n",
    "```\n",
    "latitude,longitude,description\n",
    "48.86056457456627,2.3375939272302153,Louvre Museum\n",
    "48.86003165994765,2.32658077703463,Musée d'Orsay\n",
    "48.855139873885015,2.3159270427078726,Musée Rodin\n",
    "48.8608257894529,2.3527472909202767,Centre Pompidou\n",
    "```\n",
    "\n",
    "In a Python programme, you can read CSV files using a library named `pandas`. This package has a methods named `read_csv()` to read the contents of a CSV file. This method creates a dataframe. This is a data sctructure which consists of rows and of columns. The method named `iterrows()` enable you iterate across all the rows in the dataframe. "
   ]
  },
  {
   "cell_type": "code",
   "execution_count": null,
   "id": "af2f231c",
   "metadata": {},
   "outputs": [],
   "source": [
    "import pandas as pd\n",
    "museums = pd.read_csv('paris_museums.csv')\n",
    "for i,row in museums.iterrows():\n",
    "    print(row['description'])\n",
    "    print(f\"Latitude: {row['latitude']}, Longitude: {row['longitude']}\\n\")"
   ]
  },
  {
   "cell_type": "markdown",
   "id": "4857dff9",
   "metadata": {},
   "source": [
    "Next, we can write code to add all the locations described in the CSV file as markers."
   ]
  },
  {
   "cell_type": "code",
   "execution_count": null,
   "id": "949d21f3",
   "metadata": {},
   "outputs": [],
   "source": [
    "\n",
    "map = folium.Map(location=[48.86212799332407, 2.3234206439367],\n",
    "                zoom_start = 13 )\n",
    "\n",
    "\n",
    "df = pd.read_csv('paris_museums.csv')\n",
    "\n",
    "for i,row in df.iterrows():\n",
    "    latitude = row['latitude']\n",
    "    longitude = row['longitude']\n",
    "    museum_name = row['description']\n",
    "    \n",
    "    folium.Marker([latitude, longitude],\n",
    "    tooltip = museum_name ).add_to(map)\n",
    "\n",
    "    \n",
    "map"
   ]
  },
  {
   "cell_type": "markdown",
   "id": "54dbbd91",
   "metadata": {},
   "source": [
    "## Exercise 2.\n",
    "\n",
    "Open the file 'paris_museums.csv'. Try to add the coordinates and the name of a number of additional landmarks in the city of Paris. You can work with the map below for this purpose. \n",
    "\n",
    "Alternatively, you can also try to find the coordinates by opening [Google Maps](https://www.google.com/maps). Right-click on a location and double-click to copy the coordinates to the clipboard."
   ]
  },
  {
   "cell_type": "code",
   "execution_count": null,
   "id": "4b0f4f01",
   "metadata": {},
   "outputs": [],
   "source": [
    "map = folium.Map(location=[48.86212799332407, 2.3234206439367],\n",
    "                zoom_start = 13 )\n",
    "\n",
    "map.add_child(folium.features.ClickForLatLng())\n",
    "map.add_child(folium.LatLngPopup())\n",
    "map"
   ]
  },
  {
   "cell_type": "markdown",
   "id": "bf331d98",
   "metadata": {},
   "source": [
    "Next, plot all the locations in the updated CSV file on a map using the code below."
   ]
  },
  {
   "cell_type": "code",
   "execution_count": null,
   "id": "3bb57319",
   "metadata": {},
   "outputs": [],
   "source": [
    "\n",
    "map = folium.Map(location=[48.86212799332407, 2.3234206439367],\n",
    "                zoom_start = 13 )\n",
    "\n",
    "\n",
    "df = pd.read_csv('paris_museums.csv')\n",
    "\n",
    "for i,row in df.iterrows():\n",
    "    latitude = row['latitude']\n",
    "    longitude = row['longitude']\n",
    "    museum_name = row['description']\n",
    "    \n",
    "    folium.Marker([latitude, longitude],\n",
    "    tooltip = museum_name ).add_to(map)\n",
    "\n",
    "    \n",
    "map"
   ]
  },
  {
   "cell_type": "markdown",
   "id": "5a889248",
   "metadata": {},
   "source": [
    "# Custom Icons"
   ]
  },
  {
   "cell_type": "markdown",
   "id": "6c000d97",
   "metadata": {},
   "source": [
    "By default, *Leaflet* uses a blue droplet-shaped icon for the `Marker`. You can change the icon that is used on *Leaflet* maps, however. \n",
    "\n",
    "On the droplet, you can use icons from the [font awesome](https://fontawesome.com/v4/icons/) webpage. Each icon on this website is identified using a name beginning with 'fa-'.\n",
    "\n",
    "Examples include the following: \n",
    "\n",
    "* fa-map-pin\n",
    "* fa-car\n",
    "* fa-map\n",
    "* fa-street-view \n",
    "* fa-location-arrow\n",
    "* fa-map-o\n",
    "\n",
    "Some of the icons that have been added since version 4.7 of *font awasome* may not be avaiable yet. \n",
    "\n",
    "The colour of the droplet can also be changes. You can work with the following pre-defines colours: \n",
    "\n",
    "'beige', 'darkgreen', 'cadetblue', 'pink', 'gray', 'white', 'darkpurple', 'green', 'black', 'lightgray', 'darkred', 'blue', 'red', 'orange', 'lightgreen', 'darkblue', 'purple', 'lightred', 'lightblue'"
   ]
  },
  {
   "cell_type": "code",
   "execution_count": null,
   "id": "6f4f07d0",
   "metadata": {},
   "outputs": [],
   "source": [
    "\n",
    "fa_icon = 'fa-map'\n",
    "custom_color = 'darkred'\n",
    "\n",
    "custom_icon = folium.Icon(icon= fa_icon , color= custom_color , prefix='fa' )\n",
    "\n",
    "\n",
    "map = folium.Map(location=[52.15723602487217, 4.482775926589967],\n",
    "     width=\"90%\",\n",
    "    height=\"90%\",\n",
    "    zoom_start=10)\n",
    "\n",
    "folium.Marker([52.15723602487217, 4.482775926589967] , icon = custom_icon  ).add_to(map)\n",
    "\n",
    "map\n"
   ]
  },
  {
   "cell_type": "markdown",
   "id": "bb743c15",
   "metadata": {},
   "source": [
    "You can also change the shape of the marker. To do this. you need to supply the URL of an icon image. A large number of such icons can be found on the [icons8](https://icons8.com/icons/set/map) website. On this site, you need to right-clich and select \"Copy URL\". \n",
    "\n",
    "The list below contains some URLs you can work with. \n",
    "\n",
    "* https://cdn-icons-png.flaticon.com/128/4300/4300279.png\n",
    "* http://leafletjs.com/examples/custom-icons/leaf-green.png\n",
    "* https://cdn-icons-png.flaticon.com/128/4300/4300279.png\n",
    "* https://img.icons8.com/?size=2x&id=54qCxYO5RODV&format=png\n",
    "* https://img.icons8.com/?size=2x&id=86820&format=png"
   ]
  },
  {
   "cell_type": "code",
   "execution_count": null,
   "id": "b6ee7e72",
   "metadata": {},
   "outputs": [],
   "source": [
    "icon_url = 'https://cdn-icons-png.flaticon.com/128/4300/4300279.png'\n",
    "\n",
    "custom_icon = folium.features.CustomIcon(\n",
    "    icon_url, \n",
    "    icon_size=[30,] )\n",
    "\n",
    "map = folium.Map(location=[52.15723602487217, 4.482775926589967],\n",
    "    tiles=\"CartoDB positron\",\n",
    "     width=\"90%\",\n",
    "    height=\"90%\",\n",
    "    zoom_start=10)\n",
    "\n",
    "folium.Marker([52.15723602487217, 4.482775926589967] , \n",
    "              icon = custom_icon ).add_to(map)\n",
    "\n",
    "map"
   ]
  },
  {
   "cell_type": "markdown",
   "id": "c463e81c",
   "metadata": {},
   "source": [
    "# GeoJSON\n",
    "\n",
    "As was discussed, you can use add `Marker`s and `Cicle`s to a base map. The code that was discussed added all of these components one by one, on separate lines of code. \n",
    "\n",
    "This process of adding layers to a map can also take place in a more efficient way, by firstly making one large file containing all the items you want to work with. As a subsequent step, all of these layers described in this file can then be added to the map in one go, using one basic command. \n",
    "\n",
    "Files of this nature, describing multiple locations, can be made using the specifications defined in the [GeoJSON](https://geojson.org/) format. It is commonly used open format for capturing geospatial data. Its syntax is based on the [JavaScript Object Notation](JavaScript Object Notation) standard. \n",
    "\n",
    "GeoJSON support a number of different geometry types, including points, lines and Polygons. \n",
    "\n",
    "You can find an example of a relatively simple GeoJson file below. This file describes specific location in New York City. \n",
    "\n",
    "As you can hopefully see, the file describes two geometry types: (1) a Point and (2) a Polygon. The Polygon is actually a collection of five coordinates. \n",
    "\n",
    "Some properties have also been defined for these shapes. There is a `name` property, which has been given a certain value. The polygon indicated the location of Central Park. \n",
    "\n",
    "\n",
    "```\n",
    "{\n",
    "  \"type\": \"FeatureCollection\",\n",
    "  \"features\": [\n",
    "    {\n",
    "      \"type\": \"Feature\",\n",
    "      \"properties\": {\n",
    "        \"name\": \"Rockefeller Center\"\n",
    "      },\n",
    "      \"geometry\": {\n",
    "        \"coordinates\": [\n",
    "          -73.98007794763497,\n",
    "          40.75930179605277\n",
    "        ],\n",
    "        \"type\": \"Point\"\n",
    "      },\n",
    "      \"id\": 1\n",
    "    },\n",
    "    {\n",
    "      \"type\": \"Feature\",\n",
    "      \"properties\": {\n",
    "        \"name\": \"Central Park\"\n",
    "      },\n",
    "      \"geometry\": {\n",
    "        \"coordinates\": [\n",
    "          [\n",
    "            [\n",
    "              -73.98165063573659,\n",
    "              40.768289015184195\n",
    "            ],\n",
    "            [\n",
    "              -73.97305016654792,\n",
    "              40.76450037197216\n",
    "            ],\n",
    "            [\n",
    "              -73.94943376523811,\n",
    "              40.797128471256\n",
    "            ],\n",
    "            [\n",
    "              -73.95817399149345,\n",
    "              40.80094836642937\n",
    "            ],\n",
    "            [\n",
    "              -73.98165063573659,\n",
    "              40.768289015184195\n",
    "            ]\n",
    "          ]\n",
    "        ],\n",
    "        \"type\": \"Polygon\"\n",
    "      },\n",
    "      \"id\": 2\n",
    "    }\n",
    "  ]\n",
    "}\n",
    "```"
   ]
  },
  {
   "cell_type": "markdown",
   "id": "dbfbad7a",
   "metadata": {},
   "source": [
    "This sample GeoJSON is included in the folder you included for this course. It save in a file names 'new_york.geojson'. \n",
    "\n",
    "The information from the GeoJSON file can be added using the `GeoJson` object. "
   ]
  },
  {
   "cell_type": "code",
   "execution_count": null,
   "id": "d69a3f42",
   "metadata": {},
   "outputs": [],
   "source": [
    "map_url = 'https://server.arcgisonline.com/ArcGIS/rest/services/World_Street_Map/MapServer/tile/{z}/{y}/{x}'\n",
    "attribution= 'Tiles &copy; Esri &mdash; Source: Esri, DeLorme, NAVTEQ, USGS, Intermap, iPC, NRCAN, Esri Japan, METI, Esri China (Hong Kong), Esri (Thailand), TomTom, 2012'\n",
    "\n",
    "map = folium.Map(location=[40.78157518113839, -73.96629142372429],\n",
    "                zoom_start = 12 , \n",
    "                 tiles =  map_url , attr = attribution)\n",
    "\n",
    "folium.GeoJson( \"new_york.geojson\" ).add_to(map)\n",
    "map\n"
   ]
  },
  {
   "cell_type": "markdown",
   "id": "44d93a24",
   "metadata": {},
   "source": [
    "You can adjust the presentation of the features, using the stylefunction parameter. The following properties are available: \n",
    "\n",
    "* `fillColor`\n",
    "* `color`\n",
    "* `weight`\n",
    "\n",
    "If you have labels you want to use as popups, you can work with the `GeoJsonPopup` object from the `features` module. "
   ]
  },
  {
   "cell_type": "code",
   "execution_count": null,
   "id": "ec70cc58",
   "metadata": {},
   "outputs": [],
   "source": [
    "\n",
    "import folium\n",
    "from folium import GeoJson\n",
    "\n",
    "fa_icon = 'fa-asterisk'\n",
    "custom_color = 'darkred'\n",
    "\n",
    "custom_icon = folium.Icon(icon= fa_icon , color= custom_color , prefix='fa' , size = 5)\n",
    "\n",
    "\n",
    "map = folium.Map(location=[40.771672371640875, -73.97480715725173],\n",
    "                zoom_start = 13 , \n",
    "                 tiles =  'OpenStreetMap' )\n",
    "\n",
    "gj = GeoJson('new_york.geojson' , \n",
    "       marker = folium.Marker( icon = custom_icon) ,             \n",
    "       style_function=lambda feature: {    \n",
    "        'fillColor': '#120f7a',           \n",
    "        'color': '#366944', \n",
    "        'weight': 2\n",
    "    }).add_to(map)\n",
    "\n",
    "folium.features.GeoJsonPopup(fields=['name'],labels=False).add_to(gj)\n",
    "\n",
    "map"
   ]
  },
  {
   "cell_type": "markdown",
   "id": "f556d17e",
   "metadata": {},
   "source": [
    "As you can imagine, GeoJson code is usually not typed in manually. They are often generated using tools. \n",
    "\n",
    "One very helpful tool in this context is [geojson.io](geojson.io). Using the tools that are provided to the right of the screen, you can add some shapes such as polygons, lines and points to a map. \n",
    "\n",
    "If you click on one of the geometry types added to the map, you can also add properties, such as a `name`, or a `class`. you are free to choose these property names yourself. \n",
    "\n",
    "Once you have added all the components you need, you can export all of these layers to a GeoJSON file. Click on 'Save' > 'GeoJSon'. The export will be saved under the name 'map.geojson' by default, but you can obviously rename this file. The export will usually be downloaded to the \"Downloads\" folder. "
   ]
  },
  {
   "cell_type": "markdown",
   "id": "93ae6c4e",
   "metadata": {},
   "source": [
    "## Exercise 3.\n",
    "\n",
    "The file 'nl.geojson' contains polygons depicting all the provinces of the netherlands and markers for a number of cities. The file has been downloaded from [Carthography Vectors](https://cartographyvectors.com/). \n",
    "\n",
    "Open the file 'nl.geojson' in [geojson.io](geojson.io) and try to add markers for at least three other Dutch cities. Also added a `name` property to record the names of these cities. Export you work. You can work as 'nl_updated.geojson'.\n",
    "\n",
    "Next, present all the data from this GeoJSON file on a *Leaflet* map. Try to show the provinces in a light red colour. You can use the code below as a basis. Note that the `GeoJson` object works with the `zoom_on_click` parameter, which is set to true. This parameter will have the effect that users can automatically zoom in onto the region they click on. \n",
    "\n",
    "Add tooltips displaying the names of the cities and the provinces using `GeoJsonTooltip`. "
   ]
  },
  {
   "cell_type": "code",
   "execution_count": null,
   "id": "54d62892",
   "metadata": {},
   "outputs": [],
   "source": [
    "from folium import GeoJson\n",
    "\n",
    "m = folium.Map([52.17730033847493,4.537353515625001], \n",
    "            zoom_start=8)\n",
    "\n",
    "fa_icon = 'fa-map'\n",
    "custom_color = 'darkred'\n",
    "\n",
    "custom_icon = folium.Icon(icon= fa_icon , color= custom_color , prefix='fa' , size = 5)\n",
    "\n",
    "\n",
    "gj = GeoJson('nl.geojson' , \n",
    "    marker = folium.Marker( icon = custom_icon) ,\n",
    "        zoom_on_click = True ,\n",
    "       style_function=lambda feature: {    \n",
    "        'fillColor': '#120f7a',           \n",
    "        'color': '#366944', \n",
    "        'weight': 2\n",
    "    }).add_to(m)\n",
    "\n",
    "folium.features.GeoJsonTooltip(fields=['name'],labels=False).add_to(gj)\n",
    "\n",
    "m.save('nl.html')\n",
    "m"
   ]
  },
  {
   "cell_type": "markdown",
   "id": "cb4c27b1",
   "metadata": {},
   "source": [
    "# A Choropeth map"
   ]
  },
  {
   "cell_type": "markdown",
   "id": "8a9487fa",
   "metadata": {},
   "source": [
    "If you have GeoJSON files delineating specific regions, together with quantitative data about these regions, it becomes possible to create a Choropeth map. On such a choropeth map, different areas or regions are presented in diffetent colours, or in diofferent shades of a colour, in such a way that these colours clarify the values for a specific variable.  In this way, choropeth maps allow for a quick visual comparison of these regions. \n",
    "\n",
    "The collection of files you downloaded for this course includes a CSV file named 'nl_population.csv'. This file offers information about the number of inhabitants of each province of The Netherlands. The dataset has two columns: 'name' and 'population'. The data have been copied from [WIkidata](https://www.wikidata.org/wiki/Wikidata:Main_Page).\n",
    "\n",
    "The code below reads in the dataset and creates a `Pandas` dataframe named 'provinces'.  "
   ]
  },
  {
   "cell_type": "code",
   "execution_count": null,
   "id": "92fd8ddf",
   "metadata": {},
   "outputs": [],
   "source": [
    "import pandas as pd\n",
    "provinces = pd.read_csv('nl_population.csv')\n",
    "print(provinces)"
   ]
  },
  {
   "cell_type": "markdown",
   "id": "479b758b",
   "metadata": {},
   "source": [
    "As mentioned, we can bring polygons representing regions and quantitative data about these regions together in a chloropeth map.\n",
    "\n",
    "To do this, you need to make sure, firstly, that there is a value in the first data set which uniquely identifies each region. This may be code, or a name, provided that this name is unique. Additionally, you need to ensure that these same identifiers are used in the second dataset. If the two dataset share the same identifiers for the regions, the data sets can be connected.  \n",
    "\n",
    "The code below creates a choropeth map in which the colours of the regions convery information about the population. The regions can be drawn, as we saw, by making use of the data in 'nl.geojsopn'. If you open 'nl.geojson' in [geojson.io](geojson.io), you can see that each province has been given a name. This name is captured in a property called 'name'. We can assume that the names of provinces are unique. These exact same names also occur in the CSV file named 'nl_provinces', so we can use these values to establish links between the two datasets. \n",
    "\n",
    "\n",
    "A folium `Choropleth` object demands the following parameters: \n",
    "\n",
    "* The `geodata` parameter should specify the GeoJSON file containing the geographic information. \n",
    "* `data` must refer to the pandas dataframe containing the data. \n",
    "* `columns` refers to the columns in the datadrame that need to be visualised. The first of these columns should be the identifier, and the second column should contain the values to be represented. \n",
    "* `key_on` explains how the two data sets can be connected. More specifically, you need to refer to the property (typically given underneath 'feature.properties') which acts as an identifier. \n",
    "* The values for the `fill_opacity` and the `line_opacity` determine the opacity. The higher the value, the lower the level of transparency.   \n",
    "* Under `fill_color`, we can supply a colour range. \n",
    "\n",
    "As options for the `full_color`, we can choose from the following list.\n",
    "\n",
    "```\n",
    "'BuGn', 'BuPu', 'GnBu', 'OrRd', 'PuBu', 'PuBuGn', 'PuRd', 'RdPu', 'YlGn', 'YlGnBu', 'YlOrBr', 'YlOrRd', 'BrBg', 'PiYG', 'PRGn', 'PuOr', 'RdBu', 'RdGy', 'RdYlBu', 'RdYlGn'\n",
    "```"
   ]
  },
  {
   "cell_type": "code",
   "execution_count": null,
   "id": "f2e627f6",
   "metadata": {},
   "outputs": [],
   "source": [
    "from folium import GeoJson\n",
    "\n",
    "m = folium.Map([52.17730033847493,4.537353515625001], \n",
    "            zoom_start=7)\n",
    "\n",
    "\n",
    "cp = folium.Choropleth(\n",
    "    geo_data= 'nl.geojson',\n",
    "    data= provinces ,\n",
    "    columns=[\"name\", \"population\"],\n",
    "    key_on=\"feature.properties.name\",\n",
    "    fill_color=\"PuBu\",\n",
    "    fill_opacity=0.5,\n",
    "    line_opacity=0.1,\n",
    "    legend_name=\"population\",\n",
    ").add_to(m)\n",
    "\n",
    "folium.features.GeoJsonTooltip(fields=['name'],labels=False).add_to(cp.geojson)\n",
    "\n",
    "\n",
    "m.save('cp.html')\n",
    "m"
   ]
  },
  {
   "cell_type": "code",
   "execution_count": null,
   "id": "0d8d8989",
   "metadata": {},
   "outputs": [],
   "source": []
  }
 ],
 "metadata": {
  "jupytext": {
   "formats": "ipynb,md"
  },
  "kernelspec": {
   "display_name": "Python 3 (ipykernel)",
   "language": "python",
   "name": "python3"
  },
  "language_info": {
   "codemirror_mode": {
    "name": "ipython",
    "version": 3
   },
   "file_extension": ".py",
   "mimetype": "text/x-python",
   "name": "python",
   "nbconvert_exporter": "python",
   "pygments_lexer": "ipython3",
   "version": "3.7.9"
  }
 },
 "nbformat": 4,
 "nbformat_minor": 5
}
