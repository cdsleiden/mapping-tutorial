{
 "cells": [
  {
   "cell_type": "markdown",
   "id": "706d646c",
   "metadata": {},
   "source": [
    "# 1. Base maps"
   ]
  },
  {
   "cell_type": "markdown",
   "id": "ece9de1e",
   "metadata": {},
   "source": [
    "This tutorial will explain how you can visualise geospatial data using interactive maps. These maps will be created using [Leaflet](https://leafletjs.com/), a widely used open source Javascript library. This tutorial does not expect you to learn how to write code in Javascript, however. The process of working with *Leaflet* can be simplified enormously by making use of [folium](https://python-visualization.github.io/folium/latest/), a package built in the [Python](https://www.python.org/) programming language. You can view *folium* as an interface for *Leaflet*. In many cases, you create fairly advanced *Leaflet* maps using only a few Python commands.\n",
    "\n",
    "If the *folium* package has not been installed yet, you can install it using the command below. "
   ]
  },
  {
   "cell_type": "code",
   "execution_count": null,
   "id": "ea4dab76",
   "metadata": {},
   "outputs": [],
   "source": [
    "pip install folium"
   ]
  },
  {
   "cell_type": "markdown",
   "id": "73bbf612",
   "metadata": {},
   "source": [
    "Following the initial installation, You may need to restart the kernel before you can actually use the package. Choose \"Kernel\" > \"Restart\" from the menu in Jupyter Notebook. \n",
    "\n",
    "To work with *folium*, you firstly need to import the package. "
   ]
  },
  {
   "cell_type": "code",
   "execution_count": null,
   "id": "0edeaa55",
   "metadata": {},
   "outputs": [],
   "source": [
    "import folium"
   ]
  },
  {
   "cell_type": "markdown",
   "id": "4cb6979a",
   "metadata": {},
   "source": [
    "In *folium*, You can make a very basic map, first of all, by creating a `Map` object. "
   ]
  },
  {
   "cell_type": "code",
   "execution_count": null,
   "id": "b353741d",
   "metadata": {
    "scrolled": true
   },
   "outputs": [],
   "source": [
    "folium.Map()"
   ]
  },
  {
   "cell_type": "markdown",
   "id": "44fa4b59",
   "metadata": {},
   "source": [
    "The map normally opens in the notebook by default. It may be the case, however, that the external contents from *Leaflet* is blocked, as a precaution against hidden malicious code. If you do not see a map after running the code above, you can try to make the current notebook a trusted notebook by choosing \"File\" > \"Trust Notebook\". \n",
    "\n",
    "Next to presenting the map in this notebook, you can also write the map to a file, using the `save()` method. As a parameter for this method (i.e. the value supplied in beteween the brackets), you need to specify the filename.  The code below will create a new file with the name 'map.html' in your current working directory. "
   ]
  },
  {
   "cell_type": "code",
   "execution_count": null,
   "id": "90a12fb8",
   "metadata": {},
   "outputs": [],
   "source": [
    "map = folium.Map()\n",
    "map.save('map.html')"
   ]
  },
  {
   "cell_type": "markdown",
   "id": "58a3602b",
   "metadata": {},
   "source": [
    "To view the map, navigate to the folder containing the file named 'map.html', and doubleclick on this file. This file should then be opened in a web browser. \n",
    "\n",
    "The default centre of this map is 0 latitude and 0 longitude. This is a location on the equator, with the latitude set to the location of the [Greenwich observatory](https://www.rmg.co.uk/royal-observatory). \n",
    "\n",
    "The centre of the map can be changed using the `location` parameter. The cell below places the centre at the Lipsius Building in Leiden. The latitude of this location is 52.15775492822701, and the longitude in 4.482736320037433.\n",
    "\n",
    "If you want to find the coordinates of other locations, you can make use of [Google Maps](https://www.google.com/maps/). If you right-click on a specific location, the pop-up window that appears shows the coordinates of this location. Netx, if you click on this location, these coordinates will be copied to the clickboard. "
   ]
  },
  {
   "cell_type": "code",
   "execution_count": null,
   "id": "d5e05e1e",
   "metadata": {},
   "outputs": [],
   "source": [
    "map = folium.Map(location=[52.15775492822701, 4.482736320037433])\n",
    "map"
   ]
  },
  {
   "cell_type": "markdown",
   "id": "cfbd0fd1",
   "metadata": {},
   "source": [
    "The zoom level can be adjusted using the `zoom_start` parameter. This zoom level defines the scale of the map. A low zoom level may show the full globe, or entire continents. A higher zoom level may show particular details of a location, such as the streets in a city. The defailt value for `zoom_start` is 0. "
   ]
  },
  {
   "cell_type": "code",
   "execution_count": null,
   "id": "4597b2d8",
   "metadata": {
    "scrolled": true
   },
   "outputs": [],
   "source": [
    "map = folium.Map( \n",
    "    location=[52.15723602487217, 4.482775926589967],\n",
    "    zoom_start=12)\n",
    "\n",
    "map"
   ]
  },
  {
   "cell_type": "markdown",
   "id": "8f0b129f",
   "metadata": {},
   "source": [
    "## A Tile Layer\n",
    "\n",
    "The base map that is visible can be changed by creating a tile layer. A number of base maps have already been implemented in `folium` by default. You can change the overall style of the map by using one of the following options in the `tiles` parameter of the `Map`.\n",
    "\n",
    "* OpenStreetMap\n",
    "* Stamen Terrain\n",
    "* Stamen Toner\n",
    "* Stamen Watercolor\n",
    "* CartoDB positron\n",
    "* CartoDB dark_matter"
   ]
  },
  {
   "cell_type": "code",
   "execution_count": null,
   "id": "3add026d",
   "metadata": {},
   "outputs": [],
   "source": [
    "map = folium.Map(location=[52.15723602487217, 4.482775926589967],\n",
    "                 tiles='CartoDB dark_matter',zoom_start=12)\n",
    "\n",
    "map\n"
   ]
  },
  {
   "cell_type": "markdown",
   "id": "f7944269",
   "metadata": {},
   "source": [
    "You can also use tiles made available by other providers. To do this, you need to mention the URL of the tile images in the `tiles` parameter. You also need to give information about the provider of the image (i.e. the attribution) in the `attr` parameter. You can find many examples of base map URLs on  [http://leaflet-extras.github.io](http://leaflet-extras.github.io/leaflet-providers/preview/).\n",
    "\n",
    "The code below contains a number of URLs and attribution statements copied from this web page. You can create maps with these tile layets simply by changing the value of the `base_map` variable. You can choose from the values below.\n",
    "\n",
    "* Esri.NatGeoWorldMap\n",
    "* Esri.WorldImagery\n",
    "* MtbMap\n",
    "* CartoDB.Voyager\n",
    "* USGS.USImagery\n",
    "* OpenTopoMap"
   ]
  },
  {
   "cell_type": "code",
   "execution_count": null,
   "id": "ca829692",
   "metadata": {},
   "outputs": [],
   "source": [
    "leaflet_providers = dict()\n",
    "\n",
    "leaflet_providers['Esri.NatGeoWorldMap'] = ('https://server.arcgisonline.com/ArcGIS/rest/services/NatGeo_World_Map/MapServer/tile/{z}/{y}/{x}','Tiles &copy; Esri &mdash; National Geographic, Esri, DeLorme, NAVTEQ, UNEP-WCMC, USGS, NASA, ESA, METI, NRCAN, GEBCO, NOAA, iPC')\n",
    "leaflet_providers['Esri.WorldImagery'] = ('https://server.arcgisonline.com/ArcGIS/rest/services/World_Imagery/MapServer/tile/{z}/{y}/{x}','Tiles &copy; Esri &mdash; Source: Esri, i-cubed, USDA, USGS, AEX, GeoEye, Getmapping, Aerogrid, IGN, IGP, UPR-EGP, and the GIS User Community')\n",
    "leaflet_providers['MtbMap'] = ('http://tile.mtbmap.cz/mtbmap_tiles/{z}/{x}/{y}.png','&copy; <a href=\"https://www.openstreetmap.org/copyright\">OpenStreetMap</a> contributors &amp; USGS' )\n",
    "leaflet_providers['CartoDB.Voyager'] = ('https://{s}.basemaps.cartocdn.com/rastertiles/voyager/{z}/{x}/{y}{r}.png','&copy; <a href=\"https://www.openstreetmap.org/copyright\">OpenStreetMap</a> contributors &copy; <a href=\"https://carto.com/attributions\">CARTO</a>')\n",
    "leaflet_providers['USGS.USImagery'] = ('https://basemap.nationalmap.gov/arcgis/rest/services/USGSImageryOnly/MapServer/tile/{z}/{y}/{x}','Tiles courtesy of the <a href=\"https://usgs.gov/\">U.S. Geological Survey</a>')\n",
    "leaflet_providers['OpenTopoMap'] = ('https://{s}.tile.opentopomap.org/{z}/{x}/{y}.png','Map data: &copy; <a href=\"https://www.openstreetmap.org/copyright\">OpenStreetMap</a> contributors, <a href=\"http://viewfinderpanoramas.org\">SRTM</a> | Map style: &copy; <a href=\"https://opentopomap.org\">OpenTopoMap</a> (<a href=\"https://creativecommons.org/licenses/by-sa/3.0/\">CC-BY-SA</a>)')\n",
    "\n",
    "\n",
    "base_map = 'OpenTopoMap'\n",
    "\n",
    "\n",
    "tiles = leaflet_providers[base_map][0]\n",
    "attribution = leaflet_providers[base_map][1]\n",
    "\n",
    "map = folium.Map(location=[52.15723602487217, 4.482775926589967],\n",
    "                 tiles = tiles ,\n",
    "                 attr= attribution,\n",
    "                  zoom_start=12)\n",
    "map.save('tiles_map.html')\n",
    "\n",
    "map"
   ]
  },
  {
   "cell_type": "markdown",
   "id": "80f7d2dd",
   "metadata": {},
   "source": [
    "The `width` and the `height` of the map can also be adjusted. You can provide percentages for these properties"
   ]
  },
  {
   "cell_type": "code",
   "execution_count": null,
   "id": "59e71174",
   "metadata": {},
   "outputs": [],
   "source": [
    "map = folium.Map(location=[52.15723602487217, 4.482775926589967],\n",
    "tiles=\"Stamen Terrain\",\n",
    " width=\"50%\",\n",
    "height=\"100%\",\n",
    "zoom_start=10)\n",
    "\n",
    "map\n"
   ]
  },
  {
   "cell_type": "markdown",
   "id": "1b1fdca2",
   "metadata": {},
   "source": [
    "### Exercise 1.1\n",
    "\n",
    "Try to find the correct coordinates of the Colosseum in Rome. You can do this by opening [Google Maps](https://www.google.com/maps), for example. Right-click on a location and double-click to copy the coordinates to the clipboard. \n",
    "\n",
    "Next, make a map which has the Colosseum as its centre. Make sure that street names are visible. Use the tile images from *OpenStreetMap*, and make sure that the width of the map covers 80% of the space that is available. "
   ]
  },
  {
   "cell_type": "code",
   "execution_count": null,
   "id": "479a1ad9",
   "metadata": {},
   "outputs": [],
   "source": [
    "import folium\n",
    "\n",
    "map = folium.Map(location=[0,0],\n",
    " width=\"100%\",\n",
    "height=\"100%\",\n",
    "zoom_start=0)\n",
    "\n",
    "map\n"
   ]
  },
  {
   "cell_type": "markdown",
   "id": "ba7cf172",
   "metadata": {},
   "source": [
    "## A Minimap\n",
    "\n",
    "Finally, you can add a `Minimap` to clarify the larger context of the location visible on the map. This `Minimap` is part of the *plugins* module of *folium*. This smaller map will normally be shown at the bottom right of the larger map. \n"
   ]
  },
  {
   "cell_type": "code",
   "execution_count": null,
   "id": "fb28de4f",
   "metadata": {},
   "outputs": [],
   "source": [
    "from folium import plugins\n",
    "\n",
    "m = folium.Map(location=(41.89812135355312, 12.476395553072532), \n",
    "               zoom_start=12 )\n",
    "\n",
    "minimap = plugins.MiniMap()\n",
    "m.add_child(minimap)\n",
    "\n",
    "m.save('map.html')\n",
    "m"
   ]
  },
  {
   "cell_type": "code",
   "execution_count": null,
   "id": "d47df8df",
   "metadata": {},
   "outputs": [],
   "source": []
  }
 ],
 "metadata": {
  "kernelspec": {
   "display_name": "Python 3 (ipykernel)",
   "language": "python",
   "name": "python3"
  },
  "language_info": {
   "codemirror_mode": {
    "name": "ipython",
    "version": 3
   },
   "file_extension": ".py",
   "mimetype": "text/x-python",
   "name": "python",
   "nbconvert_exporter": "python",
   "pygments_lexer": "ipython3",
   "version": "3.7.9"
  }
 },
 "nbformat": 4,
 "nbformat_minor": 5
}
